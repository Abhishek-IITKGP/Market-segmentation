{
 "cells": [
  {
   "cell_type": "code",
   "execution_count": 44,
   "id": "0260ad92",
   "metadata": {},
   "outputs": [],
   "source": [
    "# Importing Libraries\n",
    "\n",
    "import numpy as np\n",
    "import pandas as pd\n",
    "import matplotlib.pyplot as plt\n",
    "import seaborn as sns"
   ]
  },
  {
   "cell_type": "code",
   "execution_count": 45,
   "id": "b262798a",
   "metadata": {},
   "outputs": [
    {
     "data": {
      "text/html": [
       "<div>\n",
       "<style scoped>\n",
       "    .dataframe tbody tr th:only-of-type {\n",
       "        vertical-align: middle;\n",
       "    }\n",
       "\n",
       "    .dataframe tbody tr th {\n",
       "        vertical-align: top;\n",
       "    }\n",
       "\n",
       "    .dataframe thead th {\n",
       "        text-align: right;\n",
       "    }\n",
       "</style>\n",
       "<table border=\"1\" class=\"dataframe\">\n",
       "  <thead>\n",
       "    <tr style=\"text-align: right;\">\n",
       "      <th></th>\n",
       "      <th>yummy</th>\n",
       "      <th>convenient</th>\n",
       "      <th>spicy</th>\n",
       "      <th>fattening</th>\n",
       "      <th>greasy</th>\n",
       "      <th>fast</th>\n",
       "      <th>cheap</th>\n",
       "      <th>tasty</th>\n",
       "      <th>expensive</th>\n",
       "      <th>healthy</th>\n",
       "      <th>disgusting</th>\n",
       "      <th>Like</th>\n",
       "      <th>Age</th>\n",
       "      <th>VisitFrequency</th>\n",
       "      <th>Gender</th>\n",
       "    </tr>\n",
       "  </thead>\n",
       "  <tbody>\n",
       "    <tr>\n",
       "      <th>0</th>\n",
       "      <td>No</td>\n",
       "      <td>Yes</td>\n",
       "      <td>No</td>\n",
       "      <td>Yes</td>\n",
       "      <td>No</td>\n",
       "      <td>Yes</td>\n",
       "      <td>Yes</td>\n",
       "      <td>No</td>\n",
       "      <td>Yes</td>\n",
       "      <td>No</td>\n",
       "      <td>No</td>\n",
       "      <td>-3</td>\n",
       "      <td>61</td>\n",
       "      <td>Every three months</td>\n",
       "      <td>Female</td>\n",
       "    </tr>\n",
       "    <tr>\n",
       "      <th>1</th>\n",
       "      <td>Yes</td>\n",
       "      <td>Yes</td>\n",
       "      <td>No</td>\n",
       "      <td>Yes</td>\n",
       "      <td>Yes</td>\n",
       "      <td>Yes</td>\n",
       "      <td>Yes</td>\n",
       "      <td>Yes</td>\n",
       "      <td>Yes</td>\n",
       "      <td>No</td>\n",
       "      <td>No</td>\n",
       "      <td>+2</td>\n",
       "      <td>51</td>\n",
       "      <td>Every three months</td>\n",
       "      <td>Female</td>\n",
       "    </tr>\n",
       "    <tr>\n",
       "      <th>2</th>\n",
       "      <td>No</td>\n",
       "      <td>Yes</td>\n",
       "      <td>Yes</td>\n",
       "      <td>Yes</td>\n",
       "      <td>Yes</td>\n",
       "      <td>Yes</td>\n",
       "      <td>No</td>\n",
       "      <td>Yes</td>\n",
       "      <td>Yes</td>\n",
       "      <td>Yes</td>\n",
       "      <td>No</td>\n",
       "      <td>+1</td>\n",
       "      <td>62</td>\n",
       "      <td>Every three months</td>\n",
       "      <td>Female</td>\n",
       "    </tr>\n",
       "    <tr>\n",
       "      <th>3</th>\n",
       "      <td>Yes</td>\n",
       "      <td>Yes</td>\n",
       "      <td>No</td>\n",
       "      <td>Yes</td>\n",
       "      <td>Yes</td>\n",
       "      <td>Yes</td>\n",
       "      <td>Yes</td>\n",
       "      <td>Yes</td>\n",
       "      <td>No</td>\n",
       "      <td>No</td>\n",
       "      <td>Yes</td>\n",
       "      <td>+4</td>\n",
       "      <td>69</td>\n",
       "      <td>Once a week</td>\n",
       "      <td>Female</td>\n",
       "    </tr>\n",
       "    <tr>\n",
       "      <th>4</th>\n",
       "      <td>No</td>\n",
       "      <td>Yes</td>\n",
       "      <td>No</td>\n",
       "      <td>Yes</td>\n",
       "      <td>Yes</td>\n",
       "      <td>Yes</td>\n",
       "      <td>Yes</td>\n",
       "      <td>No</td>\n",
       "      <td>No</td>\n",
       "      <td>Yes</td>\n",
       "      <td>No</td>\n",
       "      <td>+2</td>\n",
       "      <td>49</td>\n",
       "      <td>Once a month</td>\n",
       "      <td>Male</td>\n",
       "    </tr>\n",
       "  </tbody>\n",
       "</table>\n",
       "</div>"
      ],
      "text/plain": [
       "  yummy convenient spicy fattening greasy fast cheap tasty expensive healthy  \\\n",
       "0    No        Yes    No       Yes     No  Yes   Yes    No       Yes      No   \n",
       "1   Yes        Yes    No       Yes    Yes  Yes   Yes   Yes       Yes      No   \n",
       "2    No        Yes   Yes       Yes    Yes  Yes    No   Yes       Yes     Yes   \n",
       "3   Yes        Yes    No       Yes    Yes  Yes   Yes   Yes        No      No   \n",
       "4    No        Yes    No       Yes    Yes  Yes   Yes    No        No     Yes   \n",
       "\n",
       "  disgusting Like  Age      VisitFrequency  Gender  \n",
       "0         No   -3   61  Every three months  Female  \n",
       "1         No   +2   51  Every three months  Female  \n",
       "2         No   +1   62  Every three months  Female  \n",
       "3        Yes   +4   69         Once a week  Female  \n",
       "4         No   +2   49        Once a month    Male  "
      ]
     },
     "execution_count": 45,
     "metadata": {},
     "output_type": "execute_result"
    }
   ],
   "source": [
    "# Reading csv and inspecting first 5 rows\n",
    "\n",
    "df = pd.read_csv(r'C:\\Users\\ak183\\Downloads\\mcdonalds.csv')\n",
    "df.head()"
   ]
  },
  {
   "cell_type": "code",
   "execution_count": 46,
   "id": "d2256af3",
   "metadata": {},
   "outputs": [
    {
     "data": {
      "text/plain": [
       "Index(['yummy', 'convenient', 'spicy', 'fattening', 'greasy', 'fast', 'cheap',\n",
       "       'tasty', 'expensive', 'healthy', 'disgusting', 'Like', 'Age',\n",
       "       'VisitFrequency', 'Gender'],\n",
       "      dtype='object')"
      ]
     },
     "execution_count": 46,
     "metadata": {},
     "output_type": "execute_result"
    }
   ],
   "source": [
    "# inspecting column names\n",
    "\n",
    "df.columns"
   ]
  },
  {
   "cell_type": "code",
   "execution_count": 47,
   "id": "0a217b43",
   "metadata": {},
   "outputs": [
    {
     "data": {
      "text/plain": [
       "(1453, 15)"
      ]
     },
     "execution_count": 47,
     "metadata": {},
     "output_type": "execute_result"
    }
   ],
   "source": [
    "# inspecting the shape of the dataframe\n",
    "\n",
    "df.shape"
   ]
  },
  {
   "cell_type": "code",
   "execution_count": 48,
   "id": "b67cc859",
   "metadata": {},
   "outputs": [
    {
     "data": {
      "text/plain": [
       "yummy             0\n",
       "convenient        0\n",
       "spicy             0\n",
       "fattening         0\n",
       "greasy            0\n",
       "fast              0\n",
       "cheap             0\n",
       "tasty             0\n",
       "expensive         0\n",
       "healthy           0\n",
       "disgusting        0\n",
       "Like              0\n",
       "Age               0\n",
       "VisitFrequency    0\n",
       "Gender            0\n",
       "dtype: int64"
      ]
     },
     "execution_count": 48,
     "metadata": {},
     "output_type": "execute_result"
    }
   ],
   "source": [
    "# checking if the dataset contains any null values\n",
    "\n",
    "df.isna().sum()"
   ]
  },
  {
   "cell_type": "code",
   "execution_count": 49,
   "id": "dd21390c",
   "metadata": {},
   "outputs": [
    {
     "data": {
      "text/plain": [
       "+3              229\n",
       "+2              187\n",
       "0               169\n",
       "+4              160\n",
       "+1              152\n",
       "I hate it!-5    152\n",
       "I love it!+5    143\n",
       "-3               73\n",
       "-4               71\n",
       "-2               59\n",
       "-1               58\n",
       "Name: Like, dtype: int64"
      ]
     },
     "execution_count": 49,
     "metadata": {},
     "output_type": "execute_result"
    }
   ],
   "source": [
    "# inspecting the like column\n",
    "\n",
    "df['Like'].value_counts()"
   ]
  },
  {
   "cell_type": "code",
   "execution_count": 50,
   "id": "29668825",
   "metadata": {},
   "outputs": [
    {
     "data": {
      "text/plain": [
       "Female    788\n",
       "Male      665\n",
       "Name: Gender, dtype: int64"
      ]
     },
     "execution_count": 50,
     "metadata": {},
     "output_type": "execute_result"
    }
   ],
   "source": [
    "# inspecting the age column\n",
    "\n",
    "df['Gender'].value_counts()"
   ]
  },
  {
   "cell_type": "code",
   "execution_count": 51,
   "id": "e5be08da",
   "metadata": {},
   "outputs": [
    {
     "data": {
      "text/plain": [
       "Once a month             439\n",
       "Every three months       342\n",
       "Once a year              252\n",
       "Once a week              235\n",
       "Never                    131\n",
       "More than once a week     54\n",
       "Name: VisitFrequency, dtype: int64"
      ]
     },
     "execution_count": 51,
     "metadata": {},
     "output_type": "execute_result"
    }
   ],
   "source": [
    "# inspecting the visit frequency column\n",
    "\n",
    "df['VisitFrequency'].value_counts()"
   ]
  },
  {
   "cell_type": "code",
   "execution_count": 52,
   "id": "4c1796ad",
   "metadata": {},
   "outputs": [],
   "source": [
    "# Converting Yes/No to binary values\n",
    "\n",
    "bin_cols = df.columns[:11]\n",
    "for col in bin_cols:\n",
    "    df[col] = df[col].map(lambda x : 1 if x == 'Yes' else 0)"
   ]
  },
  {
   "cell_type": "code",
   "execution_count": 53,
   "id": "6109356b",
   "metadata": {
    "scrolled": true
   },
   "outputs": [
    {
     "data": {
      "text/html": [
       "<div>\n",
       "<style scoped>\n",
       "    .dataframe tbody tr th:only-of-type {\n",
       "        vertical-align: middle;\n",
       "    }\n",
       "\n",
       "    .dataframe tbody tr th {\n",
       "        vertical-align: top;\n",
       "    }\n",
       "\n",
       "    .dataframe thead th {\n",
       "        text-align: right;\n",
       "    }\n",
       "</style>\n",
       "<table border=\"1\" class=\"dataframe\">\n",
       "  <thead>\n",
       "    <tr style=\"text-align: right;\">\n",
       "      <th></th>\n",
       "      <th>yummy</th>\n",
       "      <th>convenient</th>\n",
       "      <th>spicy</th>\n",
       "      <th>fattening</th>\n",
       "      <th>greasy</th>\n",
       "      <th>fast</th>\n",
       "      <th>cheap</th>\n",
       "      <th>tasty</th>\n",
       "      <th>expensive</th>\n",
       "      <th>healthy</th>\n",
       "      <th>disgusting</th>\n",
       "      <th>Like</th>\n",
       "      <th>Age</th>\n",
       "      <th>VisitFrequency</th>\n",
       "      <th>Gender</th>\n",
       "    </tr>\n",
       "  </thead>\n",
       "  <tbody>\n",
       "    <tr>\n",
       "      <th>0</th>\n",
       "      <td>0</td>\n",
       "      <td>1</td>\n",
       "      <td>0</td>\n",
       "      <td>1</td>\n",
       "      <td>0</td>\n",
       "      <td>1</td>\n",
       "      <td>1</td>\n",
       "      <td>0</td>\n",
       "      <td>1</td>\n",
       "      <td>0</td>\n",
       "      <td>0</td>\n",
       "      <td>-3</td>\n",
       "      <td>61</td>\n",
       "      <td>Every three months</td>\n",
       "      <td>Female</td>\n",
       "    </tr>\n",
       "    <tr>\n",
       "      <th>1</th>\n",
       "      <td>1</td>\n",
       "      <td>1</td>\n",
       "      <td>0</td>\n",
       "      <td>1</td>\n",
       "      <td>1</td>\n",
       "      <td>1</td>\n",
       "      <td>1</td>\n",
       "      <td>1</td>\n",
       "      <td>1</td>\n",
       "      <td>0</td>\n",
       "      <td>0</td>\n",
       "      <td>+2</td>\n",
       "      <td>51</td>\n",
       "      <td>Every three months</td>\n",
       "      <td>Female</td>\n",
       "    </tr>\n",
       "    <tr>\n",
       "      <th>2</th>\n",
       "      <td>0</td>\n",
       "      <td>1</td>\n",
       "      <td>1</td>\n",
       "      <td>1</td>\n",
       "      <td>1</td>\n",
       "      <td>1</td>\n",
       "      <td>0</td>\n",
       "      <td>1</td>\n",
       "      <td>1</td>\n",
       "      <td>1</td>\n",
       "      <td>0</td>\n",
       "      <td>+1</td>\n",
       "      <td>62</td>\n",
       "      <td>Every three months</td>\n",
       "      <td>Female</td>\n",
       "    </tr>\n",
       "    <tr>\n",
       "      <th>3</th>\n",
       "      <td>1</td>\n",
       "      <td>1</td>\n",
       "      <td>0</td>\n",
       "      <td>1</td>\n",
       "      <td>1</td>\n",
       "      <td>1</td>\n",
       "      <td>1</td>\n",
       "      <td>1</td>\n",
       "      <td>0</td>\n",
       "      <td>0</td>\n",
       "      <td>1</td>\n",
       "      <td>+4</td>\n",
       "      <td>69</td>\n",
       "      <td>Once a week</td>\n",
       "      <td>Female</td>\n",
       "    </tr>\n",
       "    <tr>\n",
       "      <th>4</th>\n",
       "      <td>0</td>\n",
       "      <td>1</td>\n",
       "      <td>0</td>\n",
       "      <td>1</td>\n",
       "      <td>1</td>\n",
       "      <td>1</td>\n",
       "      <td>1</td>\n",
       "      <td>0</td>\n",
       "      <td>0</td>\n",
       "      <td>1</td>\n",
       "      <td>0</td>\n",
       "      <td>+2</td>\n",
       "      <td>49</td>\n",
       "      <td>Once a month</td>\n",
       "      <td>Male</td>\n",
       "    </tr>\n",
       "  </tbody>\n",
       "</table>\n",
       "</div>"
      ],
      "text/plain": [
       "   yummy  convenient  spicy  fattening  greasy  fast  cheap  tasty  expensive  \\\n",
       "0      0           1      0          1       0     1      1      0          1   \n",
       "1      1           1      0          1       1     1      1      1          1   \n",
       "2      0           1      1          1       1     1      0      1          1   \n",
       "3      1           1      0          1       1     1      1      1          0   \n",
       "4      0           1      0          1       1     1      1      0          0   \n",
       "\n",
       "   healthy  disgusting Like  Age      VisitFrequency  Gender  \n",
       "0        0           0   -3   61  Every three months  Female  \n",
       "1        0           0   +2   51  Every three months  Female  \n",
       "2        1           0   +1   62  Every three months  Female  \n",
       "3        0           1   +4   69         Once a week  Female  \n",
       "4        1           0   +2   49        Once a month    Male  "
      ]
     },
     "execution_count": 53,
     "metadata": {},
     "output_type": "execute_result"
    }
   ],
   "source": [
    "# inspecting after the tranformation from verbal to binary\n",
    "\n",
    "df.head()"
   ]
  },
  {
   "cell_type": "code",
   "execution_count": 54,
   "id": "485192b0",
   "metadata": {},
   "outputs": [
    {
     "name": "stdout",
     "output_type": "stream",
     "text": [
      "yummy: 0.55\n",
      "convenient: 0.91\n",
      "spicy: 0.09\n",
      "fattening: 0.87\n",
      "greasy: 0.53\n",
      "fast: 0.9\n",
      "cheap: 0.6\n",
      "tasty: 0.64\n",
      "expensive: 0.36\n",
      "healthy: 0.2\n",
      "disgusting: 0.24\n"
     ]
    }
   ],
   "source": [
    "# inspecting the average value of each transformed segmentation variable\n",
    "\n",
    "for col in bin_cols:\n",
    "    temp = (df[col] == 1).sum()/len(df)\n",
    "    print(col + ':', round(temp, 2))"
   ]
  },
  {
   "cell_type": "code",
   "execution_count": 55,
   "id": "0477198a",
   "metadata": {},
   "outputs": [
    {
     "data": {
      "text/html": [
       "<div>\n",
       "<style scoped>\n",
       "    .dataframe tbody tr th:only-of-type {\n",
       "        vertical-align: middle;\n",
       "    }\n",
       "\n",
       "    .dataframe tbody tr th {\n",
       "        vertical-align: top;\n",
       "    }\n",
       "\n",
       "    .dataframe thead th {\n",
       "        text-align: right;\n",
       "    }\n",
       "</style>\n",
       "<table border=\"1\" class=\"dataframe\">\n",
       "  <thead>\n",
       "    <tr style=\"text-align: right;\">\n",
       "      <th></th>\n",
       "      <th>yummy</th>\n",
       "      <th>convenient</th>\n",
       "      <th>spicy</th>\n",
       "      <th>fattening</th>\n",
       "      <th>greasy</th>\n",
       "      <th>fast</th>\n",
       "      <th>cheap</th>\n",
       "      <th>tasty</th>\n",
       "      <th>expensive</th>\n",
       "      <th>healthy</th>\n",
       "      <th>disgusting</th>\n",
       "      <th>Age</th>\n",
       "    </tr>\n",
       "  </thead>\n",
       "  <tbody>\n",
       "    <tr>\n",
       "      <th>count</th>\n",
       "      <td>1453.000000</td>\n",
       "      <td>1453.000000</td>\n",
       "      <td>1453.000000</td>\n",
       "      <td>1453.000000</td>\n",
       "      <td>1453.000000</td>\n",
       "      <td>1453.000000</td>\n",
       "      <td>1453.000000</td>\n",
       "      <td>1453.000000</td>\n",
       "      <td>1453.000000</td>\n",
       "      <td>1453.000000</td>\n",
       "      <td>1453.000000</td>\n",
       "      <td>1453.000000</td>\n",
       "    </tr>\n",
       "    <tr>\n",
       "      <th>mean</th>\n",
       "      <td>0.552650</td>\n",
       "      <td>0.907777</td>\n",
       "      <td>0.093599</td>\n",
       "      <td>0.867171</td>\n",
       "      <td>0.526497</td>\n",
       "      <td>0.900206</td>\n",
       "      <td>0.598761</td>\n",
       "      <td>0.644184</td>\n",
       "      <td>0.357880</td>\n",
       "      <td>0.198899</td>\n",
       "      <td>0.242946</td>\n",
       "      <td>44.604955</td>\n",
       "    </tr>\n",
       "    <tr>\n",
       "      <th>std</th>\n",
       "      <td>0.497391</td>\n",
       "      <td>0.289440</td>\n",
       "      <td>0.291371</td>\n",
       "      <td>0.339506</td>\n",
       "      <td>0.499469</td>\n",
       "      <td>0.299828</td>\n",
       "      <td>0.490318</td>\n",
       "      <td>0.478925</td>\n",
       "      <td>0.479542</td>\n",
       "      <td>0.399309</td>\n",
       "      <td>0.429010</td>\n",
       "      <td>14.221178</td>\n",
       "    </tr>\n",
       "    <tr>\n",
       "      <th>min</th>\n",
       "      <td>0.000000</td>\n",
       "      <td>0.000000</td>\n",
       "      <td>0.000000</td>\n",
       "      <td>0.000000</td>\n",
       "      <td>0.000000</td>\n",
       "      <td>0.000000</td>\n",
       "      <td>0.000000</td>\n",
       "      <td>0.000000</td>\n",
       "      <td>0.000000</td>\n",
       "      <td>0.000000</td>\n",
       "      <td>0.000000</td>\n",
       "      <td>18.000000</td>\n",
       "    </tr>\n",
       "    <tr>\n",
       "      <th>25%</th>\n",
       "      <td>0.000000</td>\n",
       "      <td>1.000000</td>\n",
       "      <td>0.000000</td>\n",
       "      <td>1.000000</td>\n",
       "      <td>0.000000</td>\n",
       "      <td>1.000000</td>\n",
       "      <td>0.000000</td>\n",
       "      <td>0.000000</td>\n",
       "      <td>0.000000</td>\n",
       "      <td>0.000000</td>\n",
       "      <td>0.000000</td>\n",
       "      <td>33.000000</td>\n",
       "    </tr>\n",
       "    <tr>\n",
       "      <th>50%</th>\n",
       "      <td>1.000000</td>\n",
       "      <td>1.000000</td>\n",
       "      <td>0.000000</td>\n",
       "      <td>1.000000</td>\n",
       "      <td>1.000000</td>\n",
       "      <td>1.000000</td>\n",
       "      <td>1.000000</td>\n",
       "      <td>1.000000</td>\n",
       "      <td>0.000000</td>\n",
       "      <td>0.000000</td>\n",
       "      <td>0.000000</td>\n",
       "      <td>45.000000</td>\n",
       "    </tr>\n",
       "    <tr>\n",
       "      <th>75%</th>\n",
       "      <td>1.000000</td>\n",
       "      <td>1.000000</td>\n",
       "      <td>0.000000</td>\n",
       "      <td>1.000000</td>\n",
       "      <td>1.000000</td>\n",
       "      <td>1.000000</td>\n",
       "      <td>1.000000</td>\n",
       "      <td>1.000000</td>\n",
       "      <td>1.000000</td>\n",
       "      <td>0.000000</td>\n",
       "      <td>0.000000</td>\n",
       "      <td>57.000000</td>\n",
       "    </tr>\n",
       "    <tr>\n",
       "      <th>max</th>\n",
       "      <td>1.000000</td>\n",
       "      <td>1.000000</td>\n",
       "      <td>1.000000</td>\n",
       "      <td>1.000000</td>\n",
       "      <td>1.000000</td>\n",
       "      <td>1.000000</td>\n",
       "      <td>1.000000</td>\n",
       "      <td>1.000000</td>\n",
       "      <td>1.000000</td>\n",
       "      <td>1.000000</td>\n",
       "      <td>1.000000</td>\n",
       "      <td>71.000000</td>\n",
       "    </tr>\n",
       "  </tbody>\n",
       "</table>\n",
       "</div>"
      ],
      "text/plain": [
       "             yummy   convenient        spicy    fattening       greasy  \\\n",
       "count  1453.000000  1453.000000  1453.000000  1453.000000  1453.000000   \n",
       "mean      0.552650     0.907777     0.093599     0.867171     0.526497   \n",
       "std       0.497391     0.289440     0.291371     0.339506     0.499469   \n",
       "min       0.000000     0.000000     0.000000     0.000000     0.000000   \n",
       "25%       0.000000     1.000000     0.000000     1.000000     0.000000   \n",
       "50%       1.000000     1.000000     0.000000     1.000000     1.000000   \n",
       "75%       1.000000     1.000000     0.000000     1.000000     1.000000   \n",
       "max       1.000000     1.000000     1.000000     1.000000     1.000000   \n",
       "\n",
       "              fast        cheap        tasty    expensive      healthy  \\\n",
       "count  1453.000000  1453.000000  1453.000000  1453.000000  1453.000000   \n",
       "mean      0.900206     0.598761     0.644184     0.357880     0.198899   \n",
       "std       0.299828     0.490318     0.478925     0.479542     0.399309   \n",
       "min       0.000000     0.000000     0.000000     0.000000     0.000000   \n",
       "25%       1.000000     0.000000     0.000000     0.000000     0.000000   \n",
       "50%       1.000000     1.000000     1.000000     0.000000     0.000000   \n",
       "75%       1.000000     1.000000     1.000000     1.000000     0.000000   \n",
       "max       1.000000     1.000000     1.000000     1.000000     1.000000   \n",
       "\n",
       "        disgusting          Age  \n",
       "count  1453.000000  1453.000000  \n",
       "mean      0.242946    44.604955  \n",
       "std       0.429010    14.221178  \n",
       "min       0.000000    18.000000  \n",
       "25%       0.000000    33.000000  \n",
       "50%       0.000000    45.000000  \n",
       "75%       0.000000    57.000000  \n",
       "max       1.000000    71.000000  "
      ]
     },
     "execution_count": 55,
     "metadata": {},
     "output_type": "execute_result"
    }
   ],
   "source": [
    "# describe the dataframe\n",
    "\n",
    "df.describe()"
   ]
  },
  {
   "cell_type": "markdown",
   "id": "eeb78166",
   "metadata": {},
   "source": [
    "### EDA"
   ]
  },
  {
   "cell_type": "code",
   "execution_count": 56,
   "id": "661a43ec",
   "metadata": {
    "scrolled": true
   },
   "outputs": [
    {
     "data": {
      "image/png": "[encoded data removed]",
      "text/plain": [
       "<Figure size 432x288 with 1 Axes>"
      ]
     },
     "metadata": {
      "needs_background": "light"
     },
     "output_type": "display_data"
    }
   ],
   "source": [
    "# inspect the distribution of Gender in the dataset\n",
    "\n",
    "sns.countplot(x = df['Gender'])\n",
    "plt.title('Gender Distribution')\n",
    "plt.show()"
   ]
  },
  {
   "cell_type": "code",
   "execution_count": 57,
   "id": "2d4cb0c2",
   "metadata": {
    "scrolled": true
   },
   "outputs": [
    {
     "data": {
      "image/png": "[encoded data removed]",
      "text/plain": [
       "<Figure size 864x432 with 1 Axes>"
      ]
     },
     "metadata": {
      "needs_background": "light"
     },
     "output_type": "display_data"
    }
   ],
   "source": [
    "# inspecting the distribution of age \n",
    "\n",
    "plt.figure(figsize = (12, 6))\n",
    "sns.histplot(x = df['Age'], bins = 25)\n",
    "plt.title('Age distribution')\n",
    "plt.show()"
   ]
  },
  {
   "cell_type": "code",
   "execution_count": 58,
   "id": "fc2f4e34",
   "metadata": {},
   "outputs": [
    {
     "data": {
      "text/plain": [
       "54"
      ]
     },
     "execution_count": 58,
     "metadata": {},
     "output_type": "execute_result"
    }
   ],
   "source": [
    "len(df['Age'].unique())"
   ]
  },
  {
   "cell_type": "code",
   "execution_count": 59,
   "id": "1e5c26be",
   "metadata": {},
   "outputs": [
    {
     "data": {
      "image/png": "[encoded data removed]",
      "text/plain": [
       "<Figure size 1008x432 with 1 Axes>"
      ]
     },
     "metadata": {
      "needs_background": "light"
     },
     "output_type": "display_data"
    }
   ],
   "source": [
    "\n",
    "plt.figure(figsize = (14, 6))\n",
    "sns.countplot(x = df['Age'])\n",
    "plt.title('Age distribution')\n",
    "plt.show()"
   ]
  },
  {
   "cell_type": "code",
   "execution_count": 60,
   "id": "40ad33b4",
   "metadata": {},
   "outputs": [
    {
     "data": {
      "image/png": "[encoded data removed]",
      "text/plain": [
       "<Figure size 864x432 with 1 Axes>"
      ]
     },
     "metadata": {
      "needs_background": "light"
     },
     "output_type": "display_data"
    }
   ],
   "source": [
    "# inspecting the like column\n",
    "\n",
    "plt.figure(figsize = (12, 6))\n",
    "sns.countplot(x = df['Like'])\n",
    "plt.title('Like Distribution')\n",
    "plt.show()"
   ]
  },
  {
   "cell_type": "code",
   "execution_count": 61,
   "id": "0e71f0a8",
   "metadata": {},
   "outputs": [
    {
     "data": {
      "image/png": "[encoded data removed]",
      "text/plain": [
       "<Figure size 864x432 with 1 Axes>"
      ]
     },
     "metadata": {
      "needs_background": "light"
     },
     "output_type": "display_data"
    }
   ],
   "source": [
    "# inspecting visit frequency\n",
    "\n",
    "plt.figure(figsize = (12, 6))\n",
    "sns.countplot(x = df['VisitFrequency'])\n",
    "plt.title('Visit Frequency Distribution')\n",
    "plt.show()"
   ]
  },
  {
   "cell_type": "code",
   "execution_count": 62,
   "id": "617659b1",
   "metadata": {},
   "outputs": [],
   "source": [
    "# now lets plot the average of the segmentation varibales\n",
    "\n",
    "temp = []\n",
    "for col in bin_cols:\n",
    "    temp.append(round((df[col] == 1).sum()/len(df), 2))"
   ]
  },
  {
   "cell_type": "code",
   "execution_count": 63,
   "id": "2290c111",
   "metadata": {},
   "outputs": [
    {
     "data": {
      "image/png": "[encoded data removed]",
      "text/plain": [
       "<Figure size 864x432 with 1 Axes>"
      ]
     },
     "metadata": {
      "needs_background": "light"
     },
     "output_type": "display_data"
    }
   ],
   "source": [
    "plt.figure(figsize = (12, 6))\n",
    "sns.barplot(x = bin_cols, y = temp)\n",
    "plt.title('Average of the segmentation variable')\n",
    "plt.show()"
   ]
  },
  {
   "cell_type": "code",
   "execution_count": 64,
   "id": "e60a021c",
   "metadata": {},
   "outputs": [],
   "source": [
    "# transforming like column to numeric\n",
    "\n",
    "df['Like'] = df['Like'].replace({'I hate it!-5': '-5','I love it!+5':'+5'})\n",
    "df['Like'] = df['Like'].map(lambda x : int(x))"
   ]
  },
  {
   "cell_type": "code",
   "execution_count": 65,
   "id": "3604df51",
   "metadata": {},
   "outputs": [
    {
     "data": {
      "image/png": "[encoded data removed]",
      "text/plain": [
       "<Figure size 1008x576 with 2 Axes>"
      ]
     },
     "metadata": {
      "needs_background": "light"
     },
     "output_type": "display_data"
    }
   ],
   "source": [
    "# lets inspect the correlation between variables\n",
    "\n",
    "plt.figure(figsize = (14, 8))\n",
    "sns.heatmap(df.corr(), cmap = 'viridis', annot = True)\n",
    "plt.show()"
   ]
  },
  {
   "cell_type": "markdown",
   "id": "e1195e4c",
   "metadata": {},
   "source": [
    "### PCA"
   ]
  },
  {
   "cell_type": "code",
   "execution_count": 66,
   "id": "fb1f915f",
   "metadata": {},
   "outputs": [],
   "source": [
    "from sklearn.decomposition import PCA"
   ]
  },
  {
   "cell_type": "code",
   "execution_count": 67,
   "id": "29806d1b",
   "metadata": {},
   "outputs": [
    {
     "data": {
      "text/plain": [
       "array([[ 0.42536706, -0.21907878,  0.6632553 , ...,  0.18100693,\n",
       "         0.51570617, -0.56707389],\n",
       "       [-0.21863768,  0.38818996, -0.73082668, ...,  0.11147641,\n",
       "         0.49331285, -0.50044033],\n",
       "       [ 0.37541475,  0.73043507, -0.12203978, ..., -0.32228786,\n",
       "         0.06175857,  0.24274108],\n",
       "       ...,\n",
       "       [-0.18589445,  1.06266156,  0.22085675, ...,  0.03825472,\n",
       "         0.05651822, -0.01279977],\n",
       "       [-1.18206441, -0.03856977,  0.56156066, ...,  0.02226748,\n",
       "        -0.00257265, -0.10531631],\n",
       "       [ 1.55024186,  0.27503101, -0.01373727, ..., -0.13658866,\n",
       "        -0.43279782, -0.45607556]])"
      ]
     },
     "execution_count": 67,
     "metadata": {},
     "output_type": "execute_result"
    }
   ],
   "source": [
    "# transforming the data by PCA and viewing it from a diffrent lens\n",
    "\n",
    "x = df.iloc[:, :11].values\n",
    "\n",
    "pca = PCA(n_components=11)\n",
    "pc_x = pca.fit_transform(x)\n",
    "\n",
    "pc_x"
   ]
  },
  {
   "cell_type": "code",
   "execution_count": 68,
   "id": "96c862ad",
   "metadata": {},
   "outputs": [],
   "source": [
    "# converting the pc_x back to dataframe so that we can use pandas tools to visulaize eassily\n",
    "\n",
    "pc_cols = []\n",
    "for i in range(1, 12):\n",
    "    pc_cols.append('PC' + str(i))\n",
    "    \n",
    "df_pc = pd.DataFrame(data = pc_x, columns=pc_cols)"
   ]
  },
  {
   "cell_type": "code",
   "execution_count": 69,
   "id": "baafe0d6",
   "metadata": {},
   "outputs": [
    {
     "data": {
      "text/html": [
       "<div>\n",
       "<style scoped>\n",
       "    .dataframe tbody tr th:only-of-type {\n",
       "        vertical-align: middle;\n",
       "    }\n",
       "\n",
       "    .dataframe tbody tr th {\n",
       "        vertical-align: top;\n",
       "    }\n",
       "\n",
       "    .dataframe thead th {\n",
       "        text-align: right;\n",
       "    }\n",
       "</style>\n",
       "<table border=\"1\" class=\"dataframe\">\n",
       "  <thead>\n",
       "    <tr style=\"text-align: right;\">\n",
       "      <th></th>\n",
       "      <th>PC1</th>\n",
       "      <th>PC2</th>\n",
       "      <th>PC3</th>\n",
       "      <th>PC4</th>\n",
       "      <th>PC5</th>\n",
       "      <th>PC6</th>\n",
       "      <th>PC7</th>\n",
       "      <th>PC8</th>\n",
       "      <th>PC9</th>\n",
       "      <th>PC10</th>\n",
       "      <th>PC11</th>\n",
       "    </tr>\n",
       "  </thead>\n",
       "  <tbody>\n",
       "    <tr>\n",
       "      <th>0</th>\n",
       "      <td>0.425367</td>\n",
       "      <td>-0.219079</td>\n",
       "      <td>0.663255</td>\n",
       "      <td>-0.401300</td>\n",
       "      <td>0.201705</td>\n",
       "      <td>-0.389767</td>\n",
       "      <td>-0.211982</td>\n",
       "      <td>0.163235</td>\n",
       "      <td>0.181007</td>\n",
       "      <td>0.515706</td>\n",
       "      <td>-0.567074</td>\n",
       "    </tr>\n",
       "    <tr>\n",
       "      <th>1</th>\n",
       "      <td>-0.218638</td>\n",
       "      <td>0.388190</td>\n",
       "      <td>-0.730827</td>\n",
       "      <td>-0.094724</td>\n",
       "      <td>0.044669</td>\n",
       "      <td>-0.086596</td>\n",
       "      <td>-0.095877</td>\n",
       "      <td>-0.034756</td>\n",
       "      <td>0.111476</td>\n",
       "      <td>0.493313</td>\n",
       "      <td>-0.500440</td>\n",
       "    </tr>\n",
       "    <tr>\n",
       "      <th>2</th>\n",
       "      <td>0.375415</td>\n",
       "      <td>0.730435</td>\n",
       "      <td>-0.122040</td>\n",
       "      <td>0.692262</td>\n",
       "      <td>0.839643</td>\n",
       "      <td>-0.687406</td>\n",
       "      <td>0.583112</td>\n",
       "      <td>0.364379</td>\n",
       "      <td>-0.322288</td>\n",
       "      <td>0.061759</td>\n",
       "      <td>0.242741</td>\n",
       "    </tr>\n",
       "    <tr>\n",
       "      <th>3</th>\n",
       "      <td>-0.172926</td>\n",
       "      <td>-0.352752</td>\n",
       "      <td>-0.843795</td>\n",
       "      <td>0.206998</td>\n",
       "      <td>-0.681415</td>\n",
       "      <td>-0.036133</td>\n",
       "      <td>-0.054284</td>\n",
       "      <td>-0.231477</td>\n",
       "      <td>-0.028003</td>\n",
       "      <td>-0.250678</td>\n",
       "      <td>-0.051034</td>\n",
       "    </tr>\n",
       "    <tr>\n",
       "      <th>4</th>\n",
       "      <td>0.187057</td>\n",
       "      <td>-0.807610</td>\n",
       "      <td>0.028537</td>\n",
       "      <td>0.548332</td>\n",
       "      <td>0.854074</td>\n",
       "      <td>-0.097305</td>\n",
       "      <td>-0.457043</td>\n",
       "      <td>0.171758</td>\n",
       "      <td>-0.074409</td>\n",
       "      <td>0.031897</td>\n",
       "      <td>0.082245</td>\n",
       "    </tr>\n",
       "  </tbody>\n",
       "</table>\n",
       "</div>"
      ],
      "text/plain": [
       "        PC1       PC2       PC3       PC4       PC5       PC6       PC7  \\\n",
       "0  0.425367 -0.219079  0.663255 -0.401300  0.201705 -0.389767 -0.211982   \n",
       "1 -0.218638  0.388190 -0.730827 -0.094724  0.044669 -0.086596 -0.095877   \n",
       "2  0.375415  0.730435 -0.122040  0.692262  0.839643 -0.687406  0.583112   \n",
       "3 -0.172926 -0.352752 -0.843795  0.206998 -0.681415 -0.036133 -0.054284   \n",
       "4  0.187057 -0.807610  0.028537  0.548332  0.854074 -0.097305 -0.457043   \n",
       "\n",
       "        PC8       PC9      PC10      PC11  \n",
       "0  0.163235  0.181007  0.515706 -0.567074  \n",
       "1 -0.034756  0.111476  0.493313 -0.500440  \n",
       "2  0.364379 -0.322288  0.061759  0.242741  \n",
       "3 -0.231477 -0.028003 -0.250678 -0.051034  \n",
       "4  0.171758 -0.074409  0.031897  0.082245  "
      ]
     },
     "execution_count": 69,
     "metadata": {},
     "output_type": "execute_result"
    }
   ],
   "source": [
    "# inspecting first 5 rows of the transformed segmentation variables\n",
    "\n",
    "df_pc.head()"
   ]
  },
  {
   "cell_type": "code",
   "execution_count": 70,
   "id": "7c5ce6ec",
   "metadata": {},
   "outputs": [
    {
     "data": {
      "text/html": [
       "<div>\n",
       "<style scoped>\n",
       "    .dataframe tbody tr th:only-of-type {\n",
       "        vertical-align: middle;\n",
       "    }\n",
       "\n",
       "    .dataframe tbody tr th {\n",
       "        vertical-align: top;\n",
       "    }\n",
       "\n",
       "    .dataframe thead th {\n",
       "        text-align: right;\n",
       "    }\n",
       "</style>\n",
       "<table border=\"1\" class=\"dataframe\">\n",
       "  <thead>\n",
       "    <tr style=\"text-align: right;\">\n",
       "      <th></th>\n",
       "      <th>PC1</th>\n",
       "      <th>PC2</th>\n",
       "      <th>PC3</th>\n",
       "      <th>PC4</th>\n",
       "      <th>PC5</th>\n",
       "      <th>PC6</th>\n",
       "      <th>PC7</th>\n",
       "      <th>PC8</th>\n",
       "      <th>PC9</th>\n",
       "      <th>PC10</th>\n",
       "      <th>PC11</th>\n",
       "    </tr>\n",
       "  </thead>\n",
       "  <tbody>\n",
       "    <tr>\n",
       "      <th>count</th>\n",
       "      <td>1.453000e+03</td>\n",
       "      <td>1.453000e+03</td>\n",
       "      <td>1.453000e+03</td>\n",
       "      <td>1.453000e+03</td>\n",
       "      <td>1.453000e+03</td>\n",
       "      <td>1.453000e+03</td>\n",
       "      <td>1.453000e+03</td>\n",
       "      <td>1.453000e+03</td>\n",
       "      <td>1.453000e+03</td>\n",
       "      <td>1.453000e+03</td>\n",
       "      <td>1.453000e+03</td>\n",
       "    </tr>\n",
       "    <tr>\n",
       "      <th>mean</th>\n",
       "      <td>-7.625620e-17</td>\n",
       "      <td>-8.718269e-17</td>\n",
       "      <td>-3.170258e-17</td>\n",
       "      <td>-1.451771e-17</td>\n",
       "      <td>3.617967e-17</td>\n",
       "      <td>3.705837e-18</td>\n",
       "      <td>1.043938e-17</td>\n",
       "      <td>2.555882e-17</td>\n",
       "      <td>-4.953215e-17</td>\n",
       "      <td>8.076433e-17</td>\n",
       "      <td>3.262665e-17</td>\n",
       "    </tr>\n",
       "    <tr>\n",
       "      <th>std</th>\n",
       "      <td>7.570495e-01</td>\n",
       "      <td>6.074556e-01</td>\n",
       "      <td>5.046195e-01</td>\n",
       "      <td>3.987986e-01</td>\n",
       "      <td>3.374050e-01</td>\n",
       "      <td>3.102746e-01</td>\n",
       "      <td>2.896973e-01</td>\n",
       "      <td>2.751220e-01</td>\n",
       "      <td>2.652511e-01</td>\n",
       "      <td>2.488418e-01</td>\n",
       "      <td>2.369028e-01</td>\n",
       "    </tr>\n",
       "    <tr>\n",
       "      <th>min</th>\n",
       "      <td>-1.188421e+00</td>\n",
       "      <td>-1.040274e+00</td>\n",
       "      <td>-8.808133e-01</td>\n",
       "      <td>-5.906209e-01</td>\n",
       "      <td>-1.045938e+00</td>\n",
       "      <td>-8.524911e-01</td>\n",
       "      <td>-8.059463e-01</td>\n",
       "      <td>-9.316201e-01</td>\n",
       "      <td>-9.557606e-01</td>\n",
       "      <td>-8.871971e-01</td>\n",
       "      <td>-8.851439e-01</td>\n",
       "    </tr>\n",
       "    <tr>\n",
       "      <th>25%</th>\n",
       "      <td>-5.476794e-01</td>\n",
       "      <td>-3.568482e-01</td>\n",
       "      <td>-4.507793e-01</td>\n",
       "      <td>-2.814986e-01</td>\n",
       "      <td>-2.433247e-01</td>\n",
       "      <td>-1.927027e-01</td>\n",
       "      <td>-1.342190e-01</td>\n",
       "      <td>-1.717258e-01</td>\n",
       "      <td>-1.181233e-01</td>\n",
       "      <td>-1.465751e-01</td>\n",
       "      <td>-1.053163e-01</td>\n",
       "    </tr>\n",
       "    <tr>\n",
       "      <th>50%</th>\n",
       "      <td>-7.074592e-02</td>\n",
       "      <td>-1.151632e-01</td>\n",
       "      <td>2.687734e-02</td>\n",
       "      <td>-1.163200e-01</td>\n",
       "      <td>3.348785e-02</td>\n",
       "      <td>-3.460184e-02</td>\n",
       "      <td>-6.366220e-02</td>\n",
       "      <td>-3.475619e-02</td>\n",
       "      <td>3.868061e-02</td>\n",
       "      <td>3.020635e-02</td>\n",
       "      <td>-1.201409e-02</td>\n",
       "    </tr>\n",
       "    <tr>\n",
       "      <th>75%</th>\n",
       "      <td>4.933012e-01</td>\n",
       "      <td>3.915540e-01</td>\n",
       "      <td>3.515939e-01</td>\n",
       "      <td>2.702298e-01</td>\n",
       "      <td>2.048293e-01</td>\n",
       "      <td>1.747453e-01</td>\n",
       "      <td>2.318357e-02</td>\n",
       "      <td>1.295966e-01</td>\n",
       "      <td>7.987794e-02</td>\n",
       "      <td>7.001416e-02</td>\n",
       "      <td>8.554080e-02</td>\n",
       "    </tr>\n",
       "    <tr>\n",
       "      <th>max</th>\n",
       "      <td>1.705573e+00</td>\n",
       "      <td>1.279130e+00</td>\n",
       "      <td>1.326976e+00</td>\n",
       "      <td>1.355278e+00</td>\n",
       "      <td>1.053327e+00</td>\n",
       "      <td>1.323793e+00</td>\n",
       "      <td>1.350886e+00</td>\n",
       "      <td>1.121388e+00</td>\n",
       "      <td>1.086693e+00</td>\n",
       "      <td>1.181524e+00</td>\n",
       "      <td>9.255829e-01</td>\n",
       "    </tr>\n",
       "  </tbody>\n",
       "</table>\n",
       "</div>"
      ],
      "text/plain": [
       "                PC1           PC2           PC3           PC4           PC5  \\\n",
       "count  1.453000e+03  1.453000e+03  1.453000e+03  1.453000e+03  1.453000e+03   \n",
       "mean  -7.625620e-17 -8.718269e-17 -3.170258e-17 -1.451771e-17  3.617967e-17   \n",
       "std    7.570495e-01  6.074556e-01  5.046195e-01  3.987986e-01  3.374050e-01   \n",
       "min   -1.188421e+00 -1.040274e+00 -8.808133e-01 -5.906209e-01 -1.045938e+00   \n",
       "25%   -5.476794e-01 -3.568482e-01 -4.507793e-01 -2.814986e-01 -2.433247e-01   \n",
       "50%   -7.074592e-02 -1.151632e-01  2.687734e-02 -1.163200e-01  3.348785e-02   \n",
       "75%    4.933012e-01  3.915540e-01  3.515939e-01  2.702298e-01  2.048293e-01   \n",
       "max    1.705573e+00  1.279130e+00  1.326976e+00  1.355278e+00  1.053327e+00   \n",
       "\n",
       "                PC6           PC7           PC8           PC9          PC10  \\\n",
       "count  1.453000e+03  1.453000e+03  1.453000e+03  1.453000e+03  1.453000e+03   \n",
       "mean   3.705837e-18  1.043938e-17  2.555882e-17 -4.953215e-17  8.076433e-17   \n",
       "std    3.102746e-01  2.896973e-01  2.751220e-01  2.652511e-01  2.488418e-01   \n",
       "min   -8.524911e-01 -8.059463e-01 -9.316201e-01 -9.557606e-01 -8.871971e-01   \n",
       "25%   -1.927027e-01 -1.342190e-01 -1.717258e-01 -1.181233e-01 -1.465751e-01   \n",
       "50%   -3.460184e-02 -6.366220e-02 -3.475619e-02  3.868061e-02  3.020635e-02   \n",
       "75%    1.747453e-01  2.318357e-02  1.295966e-01  7.987794e-02  7.001416e-02   \n",
       "max    1.323793e+00  1.350886e+00  1.121388e+00  1.086693e+00  1.181524e+00   \n",
       "\n",
       "               PC11  \n",
       "count  1.453000e+03  \n",
       "mean   3.262665e-17  \n",
       "std    2.369028e-01  \n",
       "min   -8.851439e-01  \n",
       "25%   -1.053163e-01  \n",
       "50%   -1.201409e-02  \n",
       "75%    8.554080e-02  \n",
       "max    9.255829e-01  "
      ]
     },
     "execution_count": 70,
     "metadata": {},
     "output_type": "execute_result"
    }
   ],
   "source": [
    "# standard devaition of each components can be seen\n",
    "\n",
    "df_pc.describe()"
   ]
  },
  {
   "cell_type": "code",
   "execution_count": 71,
   "id": "a5673c2c",
   "metadata": {},
   "outputs": [
    {
     "data": {
      "text/plain": [
       "array([0.57312398, 0.36900226, 0.2546408 , 0.15904032, 0.11384214,\n",
       "       0.09627033, 0.08392454, 0.07569209, 0.07035814, 0.06192225,\n",
       "       0.05612296])"
      ]
     },
     "execution_count": 71,
     "metadata": {},
     "output_type": "execute_result"
    }
   ],
   "source": [
    "# inspecting the propotion of explained variance by each component\n",
    "\n",
    "pca.explained_variance_"
   ]
  },
  {
   "cell_type": "code",
   "execution_count": 72,
   "id": "83e91de9",
   "metadata": {},
   "outputs": [
    {
     "data": {
      "image/png": "[encoded data removed]",
      "text/plain": [
       "<Figure size 720x432 with 1 Axes>"
      ]
     },
     "metadata": {
      "needs_background": "light"
     },
     "output_type": "display_data"
    }
   ],
   "source": [
    "plt.figure(figsize=(10, 6))\n",
    "sns.barplot(x = df_pc.columns, y = pca.explained_variance_)\n",
    "plt.title('Variance explained')\n",
    "plt.show()"
   ]
  },
  {
   "cell_type": "code",
   "execution_count": 73,
   "id": "214548ee",
   "metadata": {},
   "outputs": [
    {
     "data": {
      "image/png": "[encoded data removed]",
      "text/plain": [
       "<Figure size 720x432 with 1 Axes>"
      ]
     },
     "metadata": {
      "needs_background": "light"
     },
     "output_type": "display_data"
    }
   ],
   "source": [
    "# inspecting the explained variance ratio by each component\n",
    "\n",
    "plt.figure(figsize=(10, 6))\n",
    "sns.barplot(x = df_pc.columns, y = pca.explained_variance_ratio_)\n",
    "plt.title('Variance explained Ratio')\n",
    "plt.show()"
   ]
  },
  {
   "cell_type": "markdown",
   "id": "204291dd",
   "metadata": {},
   "source": [
    "#### As we can see about 50% of the variance is explained just by first two components and about 63% of the variance is explained just by first three component, this signals that we may have redundant variables which we saw in the heatmap of correlation of variables."
   ]
  },
  {
   "cell_type": "code",
   "execution_count": 74,
   "id": "a4962357",
   "metadata": {},
   "outputs": [
    {
     "data": {
      "image/png": "[encoded data removed]",
      "text/plain": [
       "<Figure size 720x432 with 1 Axes>"
      ]
     },
     "metadata": {
      "needs_background": "light"
     },
     "output_type": "display_data"
    }
   ],
   "source": [
    "# plotting PCA1 and PCA2\n",
    "\n",
    "plt.figure(figsize = (10 ,6))\n",
    "sns.scatterplot(x = df_pc['PC1'],y = df_pc['PC2'])\n",
    "plt.title('PC2 vs PC1')\n",
    "plt.show()"
   ]
  },
  {
   "cell_type": "code",
   "execution_count": 75,
   "id": "e5e49bfe",
   "metadata": {},
   "outputs": [],
   "source": [
    "# finding loadings\n",
    "\n",
    "# PCA loadings are the coefficients of the linear combination of the original variables from which the principal components (PCs) are constructed.\n",
    "\n",
    "# Loadings Matrix = V * (E)^0.5\n",
    "# Where V is pca.components_.T and E is np.sqrt(pca.explained_variance_)\n",
    "\n",
    "loadings = pca.components_.T * np.sqrt(pca.explained_variance_)"
   ]
  },
  {
   "cell_type": "code",
   "execution_count": 76,
   "id": "83ce97db",
   "metadata": {},
   "outputs": [
    {
     "data": {
      "text/plain": [
       "(11, 11)"
      ]
     },
     "execution_count": 76,
     "metadata": {},
     "output_type": "execute_result"
    }
   ],
   "source": [
    "# inspecting shape of loadings\n",
    "\n",
    "loadings.shape"
   ]
  },
  {
   "cell_type": "code",
   "execution_count": 77,
   "id": "a9b70594",
   "metadata": {},
   "outputs": [],
   "source": [
    "# converting it into df and inspecting\n",
    "\n",
    "df_loadings = np.round(pd.DataFrame(data = loadings,\n",
    "                           columns = df_pc.columns,\n",
    "                          index = bin_cols), 3)"
   ]
  },
  {
   "cell_type": "code",
   "execution_count": 78,
   "id": "5893c8b9",
   "metadata": {},
   "outputs": [
    {
     "data": {
      "text/html": [
       "<div>\n",
       "<style scoped>\n",
       "    .dataframe tbody tr th:only-of-type {\n",
       "        vertical-align: middle;\n",
       "    }\n",
       "\n",
       "    .dataframe tbody tr th {\n",
       "        vertical-align: top;\n",
       "    }\n",
       "\n",
       "    .dataframe thead th {\n",
       "        text-align: right;\n",
       "    }\n",
       "</style>\n",
       "<table border=\"1\" class=\"dataframe\">\n",
       "  <thead>\n",
       "    <tr style=\"text-align: right;\">\n",
       "      <th></th>\n",
       "      <th>PC1</th>\n",
       "      <th>PC2</th>\n",
       "      <th>PC3</th>\n",
       "      <th>PC4</th>\n",
       "      <th>PC5</th>\n",
       "      <th>PC6</th>\n",
       "      <th>PC7</th>\n",
       "      <th>PC8</th>\n",
       "      <th>PC9</th>\n",
       "      <th>PC10</th>\n",
       "      <th>PC11</th>\n",
       "    </tr>\n",
       "  </thead>\n",
       "  <tbody>\n",
       "    <tr>\n",
       "      <th>yummy</th>\n",
       "      <td>-0.361</td>\n",
       "      <td>0.221</td>\n",
       "      <td>-0.154</td>\n",
       "      <td>0.022</td>\n",
       "      <td>-0.104</td>\n",
       "      <td>0.053</td>\n",
       "      <td>-0.081</td>\n",
       "      <td>0.004</td>\n",
       "      <td>0.152</td>\n",
       "      <td>-0.027</td>\n",
       "      <td>0.011</td>\n",
       "    </tr>\n",
       "    <tr>\n",
       "      <th>convenient</th>\n",
       "      <td>-0.118</td>\n",
       "      <td>0.010</td>\n",
       "      <td>-0.032</td>\n",
       "      <td>-0.057</td>\n",
       "      <td>0.094</td>\n",
       "      <td>-0.108</td>\n",
       "      <td>-0.017</td>\n",
       "      <td>-0.031</td>\n",
       "      <td>-0.005</td>\n",
       "      <td>-0.166</td>\n",
       "      <td>-0.128</td>\n",
       "    </tr>\n",
       "    <tr>\n",
       "      <th>spicy</th>\n",
       "      <td>-0.005</td>\n",
       "      <td>0.011</td>\n",
       "      <td>-0.019</td>\n",
       "      <td>0.079</td>\n",
       "      <td>0.024</td>\n",
       "      <td>-0.110</td>\n",
       "      <td>0.205</td>\n",
       "      <td>0.103</td>\n",
       "      <td>0.106</td>\n",
       "      <td>-0.019</td>\n",
       "      <td>0.034</td>\n",
       "    </tr>\n",
       "    <tr>\n",
       "      <th>fattening</th>\n",
       "      <td>0.088</td>\n",
       "      <td>-0.021</td>\n",
       "      <td>-0.163</td>\n",
       "      <td>-0.141</td>\n",
       "      <td>-0.025</td>\n",
       "      <td>-0.126</td>\n",
       "      <td>-0.112</td>\n",
       "      <td>0.162</td>\n",
       "      <td>-0.043</td>\n",
       "      <td>-0.001</td>\n",
       "      <td>0.059</td>\n",
       "    </tr>\n",
       "    <tr>\n",
       "      <th>greasy</th>\n",
       "      <td>0.230</td>\n",
       "      <td>-0.039</td>\n",
       "      <td>-0.405</td>\n",
       "      <td>0.101</td>\n",
       "      <td>0.122</td>\n",
       "      <td>0.065</td>\n",
       "      <td>0.010</td>\n",
       "      <td>-0.038</td>\n",
       "      <td>-0.001</td>\n",
       "      <td>0.002</td>\n",
       "      <td>0.000</td>\n",
       "    </tr>\n",
       "    <tr>\n",
       "      <th>fast</th>\n",
       "      <td>-0.082</td>\n",
       "      <td>-0.053</td>\n",
       "      <td>-0.033</td>\n",
       "      <td>-0.039</td>\n",
       "      <td>0.036</td>\n",
       "      <td>-0.184</td>\n",
       "      <td>-0.025</td>\n",
       "      <td>-0.173</td>\n",
       "      <td>0.044</td>\n",
       "      <td>0.060</td>\n",
       "      <td>0.080</td>\n",
       "    </tr>\n",
       "    <tr>\n",
       "      <th>cheap</th>\n",
       "      <td>-0.255</td>\n",
       "      <td>-0.371</td>\n",
       "      <td>-0.075</td>\n",
       "      <td>0.047</td>\n",
       "      <td>-0.044</td>\n",
       "      <td>-0.032</td>\n",
       "      <td>-0.012</td>\n",
       "      <td>0.039</td>\n",
       "      <td>0.020</td>\n",
       "      <td>0.107</td>\n",
       "      <td>-0.116</td>\n",
       "    </tr>\n",
       "    <tr>\n",
       "      <th>tasty</th>\n",
       "      <td>-0.357</td>\n",
       "      <td>0.187</td>\n",
       "      <td>-0.145</td>\n",
       "      <td>-0.001</td>\n",
       "      <td>-0.071</td>\n",
       "      <td>-0.024</td>\n",
       "      <td>0.104</td>\n",
       "      <td>-0.020</td>\n",
       "      <td>-0.170</td>\n",
       "      <td>0.020</td>\n",
       "      <td>0.005</td>\n",
       "    </tr>\n",
       "    <tr>\n",
       "      <th>expensive</th>\n",
       "      <td>0.249</td>\n",
       "      <td>0.365</td>\n",
       "      <td>0.012</td>\n",
       "      <td>0.027</td>\n",
       "      <td>-0.001</td>\n",
       "      <td>-0.081</td>\n",
       "      <td>-0.020</td>\n",
       "      <td>0.008</td>\n",
       "      <td>0.018</td>\n",
       "      <td>0.113</td>\n",
       "      <td>-0.116</td>\n",
       "    </tr>\n",
       "    <tr>\n",
       "      <th>healthy</th>\n",
       "      <td>-0.162</td>\n",
       "      <td>0.047</td>\n",
       "      <td>0.097</td>\n",
       "      <td>0.304</td>\n",
       "      <td>0.097</td>\n",
       "      <td>-0.055</td>\n",
       "      <td>-0.101</td>\n",
       "      <td>0.049</td>\n",
       "      <td>-0.049</td>\n",
       "      <td>-0.009</td>\n",
       "      <td>0.037</td>\n",
       "    </tr>\n",
       "    <tr>\n",
       "      <th>disgusting</th>\n",
       "      <td>0.284</td>\n",
       "      <td>-0.085</td>\n",
       "      <td>-0.045</td>\n",
       "      <td>0.147</td>\n",
       "      <td>-0.246</td>\n",
       "      <td>-0.065</td>\n",
       "      <td>-0.008</td>\n",
       "      <td>-0.046</td>\n",
       "      <td>-0.019</td>\n",
       "      <td>-0.072</td>\n",
       "      <td>-0.010</td>\n",
       "    </tr>\n",
       "  </tbody>\n",
       "</table>\n",
       "</div>"
      ],
      "text/plain": [
       "              PC1    PC2    PC3    PC4    PC5    PC6    PC7    PC8    PC9  \\\n",
       "yummy      -0.361  0.221 -0.154  0.022 -0.104  0.053 -0.081  0.004  0.152   \n",
       "convenient -0.118  0.010 -0.032 -0.057  0.094 -0.108 -0.017 -0.031 -0.005   \n",
       "spicy      -0.005  0.011 -0.019  0.079  0.024 -0.110  0.205  0.103  0.106   \n",
       "fattening   0.088 -0.021 -0.163 -0.141 -0.025 -0.126 -0.112  0.162 -0.043   \n",
       "greasy      0.230 -0.039 -0.405  0.101  0.122  0.065  0.010 -0.038 -0.001   \n",
       "fast       -0.082 -0.053 -0.033 -0.039  0.036 -0.184 -0.025 -0.173  0.044   \n",
       "cheap      -0.255 -0.371 -0.075  0.047 -0.044 -0.032 -0.012  0.039  0.020   \n",
       "tasty      -0.357  0.187 -0.145 -0.001 -0.071 -0.024  0.104 -0.020 -0.170   \n",
       "expensive   0.249  0.365  0.012  0.027 -0.001 -0.081 -0.020  0.008  0.018   \n",
       "healthy    -0.162  0.047  0.097  0.304  0.097 -0.055 -0.101  0.049 -0.049   \n",
       "disgusting  0.284 -0.085 -0.045  0.147 -0.246 -0.065 -0.008 -0.046 -0.019   \n",
       "\n",
       "             PC10   PC11  \n",
       "yummy      -0.027  0.011  \n",
       "convenient -0.166 -0.128  \n",
       "spicy      -0.019  0.034  \n",
       "fattening  -0.001  0.059  \n",
       "greasy      0.002  0.000  \n",
       "fast        0.060  0.080  \n",
       "cheap       0.107 -0.116  \n",
       "tasty       0.020  0.005  \n",
       "expensive   0.113 -0.116  \n",
       "healthy    -0.009  0.037  \n",
       "disgusting -0.072 -0.010  "
      ]
     },
     "execution_count": 78,
     "metadata": {},
     "output_type": "execute_result"
    }
   ],
   "source": [
    "df_loadings"
   ]
  },
  {
   "cell_type": "code",
   "execution_count": 79,
   "id": "35ab8e2a",
   "metadata": {},
   "outputs": [
    {
     "name": "stdout",
     "output_type": "stream",
     "text": [
      "Collecting bioinfokit\n",
      "  Using cached bioinfokit-2.1.1-py3-none-any.whl\n",
      "Requirement already satisfied: scipy in c:\\users\\ak183\\anaconda3\\lib\\site-packages (from bioinfokit) (1.7.3)\n",
      "Requirement already satisfied: statsmodels in c:\\users\\ak183\\anaconda3\\lib\\site-packages (from bioinfokit) (0.13.2)\n",
      "Requirement already satisfied: tabulate in c:\\users\\ak183\\anaconda3\\lib\\site-packages (from bioinfokit) (0.8.9)\n",
      "Requirement already satisfied: seaborn in c:\\users\\ak183\\anaconda3\\lib\\site-packages (from bioinfokit) (0.11.2)\n",
      "Collecting textwrap3\n",
      "  Using cached textwrap3-0.9.2-py2.py3-none-any.whl (12 kB)\n",
      "Requirement already satisfied: pandas in c:\\users\\ak183\\anaconda3\\lib\\site-packages (from bioinfokit) (1.4.2)\n",
      "Collecting matplotlib-venn\n",
      "  Using cached matplotlib_venn-0.11.9-py3-none-any.whl\n",
      "Collecting adjustText\n",
      "  Using cached adjustText-0.8-py3-none-any.whl (9.1 kB)\n",
      "Requirement already satisfied: scikit-learn in c:\\users\\ak183\\anaconda3\\lib\\site-packages (from bioinfokit) (1.0.2)\n",
      "Requirement already satisfied: numpy in c:\\users\\ak183\\anaconda3\\lib\\site-packages (from bioinfokit) (1.22.4)\n",
      "Requirement already satisfied: matplotlib in c:\\users\\ak183\\anaconda3\\lib\\site-packages (from bioinfokit) (3.5.1)\n",
      "Requirement already satisfied: pyparsing>=2.2.1 in c:\\users\\ak183\\anaconda3\\lib\\site-packages (from matplotlib->bioinfokit) (3.0.4)\n",
      "Requirement already satisfied: pillow>=6.2.0 in c:\\users\\ak183\\anaconda3\\lib\\site-packages (from matplotlib->bioinfokit) (9.0.1)\n",
      "Requirement already satisfied: packaging>=20.0 in c:\\users\\ak183\\anaconda3\\lib\\site-packages (from matplotlib->bioinfokit) (21.3)\n",
      "Requirement already satisfied: kiwisolver>=1.0.1 in c:\\users\\ak183\\anaconda3\\lib\\site-packages (from matplotlib->bioinfokit) (1.3.2)\n",
      "Requirement already satisfied: cycler>=0.10 in c:\\users\\ak183\\anaconda3\\lib\\site-packages (from matplotlib->bioinfokit) (0.11.0)\n",
      "Requirement already satisfied: python-dateutil>=2.7 in c:\\users\\ak183\\anaconda3\\lib\\site-packages (from matplotlib->bioinfokit) (2.8.2)\n",
      "Requirement already satisfied: fonttools>=4.22.0 in c:\\users\\ak183\\anaconda3\\lib\\site-packages (from matplotlib->bioinfokit) (4.25.0)\n",
      "Requirement already satisfied: six>=1.5 in c:\\users\\ak183\\anaconda3\\lib\\site-packages (from python-dateutil>=2.7->matplotlib->bioinfokit) (1.16.0)\n",
      "Requirement already satisfied: pytz>=2020.1 in c:\\users\\ak183\\anaconda3\\lib\\site-packages (from pandas->bioinfokit) (2021.3)\n",
      "Requirement already satisfied: joblib>=0.11 in c:\\users\\ak183\\anaconda3\\lib\\site-packages (from scikit-learn->bioinfokit) (1.1.0)\n",
      "Requirement already satisfied: threadpoolctl>=2.0.0 in c:\\users\\ak183\\anaconda3\\lib\\site-packages (from scikit-learn->bioinfokit) (2.2.0)\n",
      "Requirement already satisfied: patsy>=0.5.2 in c:\\users\\ak183\\anaconda3\\lib\\site-packages (from statsmodels->bioinfokit) (0.5.2)\n",
      "Installing collected packages: textwrap3, matplotlib-venn, adjustText, bioinfokit\n",
      "Successfully installed adjustText-0.8 bioinfokit-2.1.1 matplotlib-venn-0.11.9 textwrap3-0.9.2\n"
     ]
    }
   ],
   "source": [
    "!pip install bioinfokit"
   ]
  },
  {
   "cell_type": "code",
   "execution_count": 80,
   "id": "6a2cff67",
   "metadata": {},
   "outputs": [
    {
     "data": {
      "image/png": "[encoded data removed]",
      "text/plain": [
       "<Figure size 720x360 with 1 Axes>"
      ]
     },
     "metadata": {
      "needs_background": "light"
     },
     "output_type": "display_data"
    }
   ],
   "source": [
    "from bioinfokit.visuz import cluster\n",
    "\n",
    "# plotiing the 2D biplot\n",
    "\n",
    "cluster.biplot(cscore=df_pc.values, loadings=pca.components_, labels=df.columns.values, var1=round(pca.explained_variance_ratio_[0]*100, 2),\n",
    "    var2=round(pca.explained_variance_ratio_[1]*100, 2),show=True,dim=(10,5))"
   ]
  },
  {
   "cell_type": "markdown",
   "id": "311d7c0b",
   "metadata": {},
   "source": [
    "### Extracting Segements"
   ]
  },
  {
   "cell_type": "markdown",
   "id": "297dfccd",
   "metadata": {},
   "source": [
    "Using Kmeans clustering"
   ]
  },
  {
   "cell_type": "code",
   "execution_count": 81,
   "id": "38dbe6b6",
   "metadata": {},
   "outputs": [
    {
     "ename": "AttributeError",
     "evalue": "'NoneType' object has no attribute 'split'",
     "output_type": "error",
     "traceback": [
      "\u001b[1;31m---------------------------------------------------------------------------\u001b[0m",
      "\u001b[1;31mAttributeError\u001b[0m                            Traceback (most recent call last)",
      "Input \u001b[1;32mIn [81]\u001b[0m, in \u001b[0;36m<cell line: 9>\u001b[1;34m()\u001b[0m\n\u001b[0;32m      9\u001b[0m \u001b[38;5;28;01mfor\u001b[39;00m k \u001b[38;5;129;01min\u001b[39;00m \u001b[38;5;28mrange\u001b[39m(\u001b[38;5;241m1\u001b[39m, \u001b[38;5;241m9\u001b[39m):\n\u001b[0;32m     10\u001b[0m     kmeans \u001b[38;5;241m=\u001b[39m KMeans(n_clusters \u001b[38;5;241m=\u001b[39m k)\n\u001b[1;32m---> 11\u001b[0m     \u001b[43mkmeans\u001b[49m\u001b[38;5;241;43m.\u001b[39;49m\u001b[43mfit\u001b[49m\u001b[43m(\u001b[49m\u001b[43mx\u001b[49m\u001b[43m)\u001b[49m\n\u001b[0;32m     12\u001b[0m     cluster_interia\u001b[38;5;241m.\u001b[39mappend(kmeans\u001b[38;5;241m.\u001b[39minertia_)\n\u001b[0;32m     13\u001b[0m     n_clusters\u001b[38;5;241m.\u001b[39mappend(k)\n",
      "File \u001b[1;32m~\\anaconda3\\lib\\site-packages\\sklearn\\cluster\\_kmeans.py:1186\u001b[0m, in \u001b[0;36mKMeans.fit\u001b[1;34m(self, X, y, sample_weight)\u001b[0m\n\u001b[0;32m   1183\u001b[0m     \u001b[38;5;28mprint\u001b[39m(\u001b[38;5;124m\"\u001b[39m\u001b[38;5;124mInitialization complete\u001b[39m\u001b[38;5;124m\"\u001b[39m)\n\u001b[0;32m   1185\u001b[0m \u001b[38;5;66;03m# run a k-means once\u001b[39;00m\n\u001b[1;32m-> 1186\u001b[0m labels, inertia, centers, n_iter_ \u001b[38;5;241m=\u001b[39m \u001b[43mkmeans_single\u001b[49m\u001b[43m(\u001b[49m\n\u001b[0;32m   1187\u001b[0m \u001b[43m    \u001b[49m\u001b[43mX\u001b[49m\u001b[43m,\u001b[49m\n\u001b[0;32m   1188\u001b[0m \u001b[43m    \u001b[49m\u001b[43msample_weight\u001b[49m\u001b[43m,\u001b[49m\n\u001b[0;32m   1189\u001b[0m \u001b[43m    \u001b[49m\u001b[43mcenters_init\u001b[49m\u001b[43m,\u001b[49m\n\u001b[0;32m   1190\u001b[0m \u001b[43m    \u001b[49m\u001b[43mmax_iter\u001b[49m\u001b[38;5;241;43m=\u001b[39;49m\u001b[38;5;28;43mself\u001b[39;49m\u001b[38;5;241;43m.\u001b[39;49m\u001b[43mmax_iter\u001b[49m\u001b[43m,\u001b[49m\n\u001b[0;32m   1191\u001b[0m \u001b[43m    \u001b[49m\u001b[43mverbose\u001b[49m\u001b[38;5;241;43m=\u001b[39;49m\u001b[38;5;28;43mself\u001b[39;49m\u001b[38;5;241;43m.\u001b[39;49m\u001b[43mverbose\u001b[49m\u001b[43m,\u001b[49m\n\u001b[0;32m   1192\u001b[0m \u001b[43m    \u001b[49m\u001b[43mtol\u001b[49m\u001b[38;5;241;43m=\u001b[39;49m\u001b[38;5;28;43mself\u001b[39;49m\u001b[38;5;241;43m.\u001b[39;49m\u001b[43m_tol\u001b[49m\u001b[43m,\u001b[49m\n\u001b[0;32m   1193\u001b[0m \u001b[43m    \u001b[49m\u001b[43mx_squared_norms\u001b[49m\u001b[38;5;241;43m=\u001b[39;49m\u001b[43mx_squared_norms\u001b[49m\u001b[43m,\u001b[49m\n\u001b[0;32m   1194\u001b[0m \u001b[43m    \u001b[49m\u001b[43mn_threads\u001b[49m\u001b[38;5;241;43m=\u001b[39;49m\u001b[38;5;28;43mself\u001b[39;49m\u001b[38;5;241;43m.\u001b[39;49m\u001b[43m_n_threads\u001b[49m\u001b[43m,\u001b[49m\n\u001b[0;32m   1195\u001b[0m \u001b[43m\u001b[49m\u001b[43m)\u001b[49m\n\u001b[0;32m   1197\u001b[0m \u001b[38;5;66;03m# determine if these results are the best so far\u001b[39;00m\n\u001b[0;32m   1198\u001b[0m \u001b[38;5;66;03m# we chose a new run if it has a better inertia and the clustering is\u001b[39;00m\n\u001b[0;32m   1199\u001b[0m \u001b[38;5;66;03m# different from the best so far (it's possible that the inertia is\u001b[39;00m\n\u001b[0;32m   1200\u001b[0m \u001b[38;5;66;03m# slightly better even if the clustering is the same with potentially\u001b[39;00m\n\u001b[0;32m   1201\u001b[0m \u001b[38;5;66;03m# permuted labels, due to rounding errors)\u001b[39;00m\n\u001b[0;32m   1202\u001b[0m \u001b[38;5;28;01mif\u001b[39;00m best_inertia \u001b[38;5;129;01mis\u001b[39;00m \u001b[38;5;28;01mNone\u001b[39;00m \u001b[38;5;129;01mor\u001b[39;00m (\n\u001b[0;32m   1203\u001b[0m     inertia \u001b[38;5;241m<\u001b[39m best_inertia\n\u001b[0;32m   1204\u001b[0m     \u001b[38;5;129;01mand\u001b[39;00m \u001b[38;5;129;01mnot\u001b[39;00m _is_same_clustering(labels, best_labels, \u001b[38;5;28mself\u001b[39m\u001b[38;5;241m.\u001b[39mn_clusters)\n\u001b[0;32m   1205\u001b[0m ):\n",
      "File \u001b[1;32m~\\anaconda3\\lib\\site-packages\\sklearn\\cluster\\_kmeans.py:625\u001b[0m, in \u001b[0;36m_kmeans_single_lloyd\u001b[1;34m(X, sample_weight, centers_init, max_iter, verbose, x_squared_norms, tol, n_threads)\u001b[0m\n\u001b[0;32m    621\u001b[0m strict_convergence \u001b[38;5;241m=\u001b[39m \u001b[38;5;28;01mFalse\u001b[39;00m\n\u001b[0;32m    623\u001b[0m \u001b[38;5;66;03m# Threadpoolctl context to limit the number of threads in second level of\u001b[39;00m\n\u001b[0;32m    624\u001b[0m \u001b[38;5;66;03m# nested parallelism (i.e. BLAS) to avoid oversubsciption.\u001b[39;00m\n\u001b[1;32m--> 625\u001b[0m \u001b[38;5;28;01mwith\u001b[39;00m \u001b[43mthreadpool_limits\u001b[49m\u001b[43m(\u001b[49m\u001b[43mlimits\u001b[49m\u001b[38;5;241;43m=\u001b[39;49m\u001b[38;5;241;43m1\u001b[39;49m\u001b[43m,\u001b[49m\u001b[43m \u001b[49m\u001b[43muser_api\u001b[49m\u001b[38;5;241;43m=\u001b[39;49m\u001b[38;5;124;43m\"\u001b[39;49m\u001b[38;5;124;43mblas\u001b[39;49m\u001b[38;5;124;43m\"\u001b[39;49m\u001b[43m)\u001b[49m:\n\u001b[0;32m    626\u001b[0m     \u001b[38;5;28;01mfor\u001b[39;00m i \u001b[38;5;129;01min\u001b[39;00m \u001b[38;5;28mrange\u001b[39m(max_iter):\n\u001b[0;32m    627\u001b[0m         lloyd_iter(\n\u001b[0;32m    628\u001b[0m             X,\n\u001b[0;32m    629\u001b[0m             sample_weight,\n\u001b[1;32m   (...)\u001b[0m\n\u001b[0;32m    636\u001b[0m             n_threads,\n\u001b[0;32m    637\u001b[0m         )\n",
      "File \u001b[1;32m~\\anaconda3\\lib\\site-packages\\sklearn\\utils\\fixes.py:314\u001b[0m, in \u001b[0;36mthreadpool_limits\u001b[1;34m(limits, user_api)\u001b[0m\n\u001b[0;32m    312\u001b[0m     \u001b[38;5;28;01mreturn\u001b[39;00m controller\u001b[38;5;241m.\u001b[39mlimit(limits\u001b[38;5;241m=\u001b[39mlimits, user_api\u001b[38;5;241m=\u001b[39muser_api)\n\u001b[0;32m    313\u001b[0m \u001b[38;5;28;01melse\u001b[39;00m:\n\u001b[1;32m--> 314\u001b[0m     \u001b[38;5;28;01mreturn\u001b[39;00m \u001b[43mthreadpoolctl\u001b[49m\u001b[38;5;241;43m.\u001b[39;49m\u001b[43mthreadpool_limits\u001b[49m\u001b[43m(\u001b[49m\u001b[43mlimits\u001b[49m\u001b[38;5;241;43m=\u001b[39;49m\u001b[43mlimits\u001b[49m\u001b[43m,\u001b[49m\u001b[43m \u001b[49m\u001b[43muser_api\u001b[49m\u001b[38;5;241;43m=\u001b[39;49m\u001b[43muser_api\u001b[49m\u001b[43m)\u001b[49m\n",
      "File \u001b[1;32m~\\anaconda3\\lib\\site-packages\\threadpoolctl.py:171\u001b[0m, in \u001b[0;36mthreadpool_limits.__init__\u001b[1;34m(self, limits, user_api)\u001b[0m\n\u001b[0;32m    167\u001b[0m \u001b[38;5;28;01mdef\u001b[39;00m \u001b[38;5;21m__init__\u001b[39m(\u001b[38;5;28mself\u001b[39m, limits\u001b[38;5;241m=\u001b[39m\u001b[38;5;28;01mNone\u001b[39;00m, user_api\u001b[38;5;241m=\u001b[39m\u001b[38;5;28;01mNone\u001b[39;00m):\n\u001b[0;32m    168\u001b[0m     \u001b[38;5;28mself\u001b[39m\u001b[38;5;241m.\u001b[39m_limits, \u001b[38;5;28mself\u001b[39m\u001b[38;5;241m.\u001b[39m_user_api, \u001b[38;5;28mself\u001b[39m\u001b[38;5;241m.\u001b[39m_prefixes \u001b[38;5;241m=\u001b[39m \\\n\u001b[0;32m    169\u001b[0m         \u001b[38;5;28mself\u001b[39m\u001b[38;5;241m.\u001b[39m_check_params(limits, user_api)\n\u001b[1;32m--> 171\u001b[0m     \u001b[38;5;28mself\u001b[39m\u001b[38;5;241m.\u001b[39m_original_info \u001b[38;5;241m=\u001b[39m \u001b[38;5;28;43mself\u001b[39;49m\u001b[38;5;241;43m.\u001b[39;49m\u001b[43m_set_threadpool_limits\u001b[49m\u001b[43m(\u001b[49m\u001b[43m)\u001b[49m\n",
      "File \u001b[1;32m~\\anaconda3\\lib\\site-packages\\threadpoolctl.py:268\u001b[0m, in \u001b[0;36mthreadpool_limits._set_threadpool_limits\u001b[1;34m(self)\u001b[0m\n\u001b[0;32m    265\u001b[0m \u001b[38;5;28;01mif\u001b[39;00m \u001b[38;5;28mself\u001b[39m\u001b[38;5;241m.\u001b[39m_limits \u001b[38;5;129;01mis\u001b[39;00m \u001b[38;5;28;01mNone\u001b[39;00m:\n\u001b[0;32m    266\u001b[0m     \u001b[38;5;28;01mreturn\u001b[39;00m \u001b[38;5;28;01mNone\u001b[39;00m\n\u001b[1;32m--> 268\u001b[0m modules \u001b[38;5;241m=\u001b[39m \u001b[43m_ThreadpoolInfo\u001b[49m\u001b[43m(\u001b[49m\u001b[43mprefixes\u001b[49m\u001b[38;5;241;43m=\u001b[39;49m\u001b[38;5;28;43mself\u001b[39;49m\u001b[38;5;241;43m.\u001b[39;49m\u001b[43m_prefixes\u001b[49m\u001b[43m,\u001b[49m\n\u001b[0;32m    269\u001b[0m \u001b[43m                          \u001b[49m\u001b[43muser_api\u001b[49m\u001b[38;5;241;43m=\u001b[39;49m\u001b[38;5;28;43mself\u001b[39;49m\u001b[38;5;241;43m.\u001b[39;49m\u001b[43m_user_api\u001b[49m\u001b[43m)\u001b[49m\n\u001b[0;32m    270\u001b[0m \u001b[38;5;28;01mfor\u001b[39;00m module \u001b[38;5;129;01min\u001b[39;00m modules:\n\u001b[0;32m    271\u001b[0m     \u001b[38;5;66;03m# self._limits is a dict {key: num_threads} where key is either\u001b[39;00m\n\u001b[0;32m    272\u001b[0m     \u001b[38;5;66;03m# a prefix or a user_api. If a module matches both, the limit\u001b[39;00m\n\u001b[0;32m    273\u001b[0m     \u001b[38;5;66;03m# corresponding to the prefix is chosed.\u001b[39;00m\n\u001b[0;32m    274\u001b[0m     \u001b[38;5;28;01mif\u001b[39;00m module\u001b[38;5;241m.\u001b[39mprefix \u001b[38;5;129;01min\u001b[39;00m \u001b[38;5;28mself\u001b[39m\u001b[38;5;241m.\u001b[39m_limits:\n",
      "File \u001b[1;32m~\\anaconda3\\lib\\site-packages\\threadpoolctl.py:340\u001b[0m, in \u001b[0;36m_ThreadpoolInfo.__init__\u001b[1;34m(self, user_api, prefixes, modules)\u001b[0m\n\u001b[0;32m    337\u001b[0m     \u001b[38;5;28mself\u001b[39m\u001b[38;5;241m.\u001b[39muser_api \u001b[38;5;241m=\u001b[39m [] \u001b[38;5;28;01mif\u001b[39;00m user_api \u001b[38;5;129;01mis\u001b[39;00m \u001b[38;5;28;01mNone\u001b[39;00m \u001b[38;5;28;01melse\u001b[39;00m user_api\n\u001b[0;32m    339\u001b[0m     \u001b[38;5;28mself\u001b[39m\u001b[38;5;241m.\u001b[39mmodules \u001b[38;5;241m=\u001b[39m []\n\u001b[1;32m--> 340\u001b[0m     \u001b[38;5;28;43mself\u001b[39;49m\u001b[38;5;241;43m.\u001b[39;49m\u001b[43m_load_modules\u001b[49m\u001b[43m(\u001b[49m\u001b[43m)\u001b[49m\n\u001b[0;32m    341\u001b[0m     \u001b[38;5;28mself\u001b[39m\u001b[38;5;241m.\u001b[39m_warn_if_incompatible_openmp()\n\u001b[0;32m    342\u001b[0m \u001b[38;5;28;01melse\u001b[39;00m:\n",
      "File \u001b[1;32m~\\anaconda3\\lib\\site-packages\\threadpoolctl.py:373\u001b[0m, in \u001b[0;36m_ThreadpoolInfo._load_modules\u001b[1;34m(self)\u001b[0m\n\u001b[0;32m    371\u001b[0m     \u001b[38;5;28mself\u001b[39m\u001b[38;5;241m.\u001b[39m_find_modules_with_dyld()\n\u001b[0;32m    372\u001b[0m \u001b[38;5;28;01melif\u001b[39;00m sys\u001b[38;5;241m.\u001b[39mplatform \u001b[38;5;241m==\u001b[39m \u001b[38;5;124m\"\u001b[39m\u001b[38;5;124mwin32\u001b[39m\u001b[38;5;124m\"\u001b[39m:\n\u001b[1;32m--> 373\u001b[0m     \u001b[38;5;28;43mself\u001b[39;49m\u001b[38;5;241;43m.\u001b[39;49m\u001b[43m_find_modules_with_enum_process_module_ex\u001b[49m\u001b[43m(\u001b[49m\u001b[43m)\u001b[49m\n\u001b[0;32m    374\u001b[0m \u001b[38;5;28;01melse\u001b[39;00m:\n\u001b[0;32m    375\u001b[0m     \u001b[38;5;28mself\u001b[39m\u001b[38;5;241m.\u001b[39m_find_modules_with_dl_iterate_phdr()\n",
      "File \u001b[1;32m~\\anaconda3\\lib\\site-packages\\threadpoolctl.py:485\u001b[0m, in \u001b[0;36m_ThreadpoolInfo._find_modules_with_enum_process_module_ex\u001b[1;34m(self)\u001b[0m\n\u001b[0;32m    482\u001b[0m         filepath \u001b[38;5;241m=\u001b[39m buf\u001b[38;5;241m.\u001b[39mvalue\n\u001b[0;32m    484\u001b[0m         \u001b[38;5;66;03m# Store the module if it is supported and selected\u001b[39;00m\n\u001b[1;32m--> 485\u001b[0m         \u001b[38;5;28;43mself\u001b[39;49m\u001b[38;5;241;43m.\u001b[39;49m\u001b[43m_make_module_from_path\u001b[49m\u001b[43m(\u001b[49m\u001b[43mfilepath\u001b[49m\u001b[43m)\u001b[49m\n\u001b[0;32m    486\u001b[0m \u001b[38;5;28;01mfinally\u001b[39;00m:\n\u001b[0;32m    487\u001b[0m     kernel_32\u001b[38;5;241m.\u001b[39mCloseHandle(h_process)\n",
      "File \u001b[1;32m~\\anaconda3\\lib\\site-packages\\threadpoolctl.py:515\u001b[0m, in \u001b[0;36m_ThreadpoolInfo._make_module_from_path\u001b[1;34m(self, filepath)\u001b[0m\n\u001b[0;32m    513\u001b[0m \u001b[38;5;28;01mif\u001b[39;00m prefix \u001b[38;5;129;01min\u001b[39;00m \u001b[38;5;28mself\u001b[39m\u001b[38;5;241m.\u001b[39mprefixes \u001b[38;5;129;01mor\u001b[39;00m user_api \u001b[38;5;129;01min\u001b[39;00m \u001b[38;5;28mself\u001b[39m\u001b[38;5;241m.\u001b[39muser_api:\n\u001b[0;32m    514\u001b[0m     module_class \u001b[38;5;241m=\u001b[39m \u001b[38;5;28mglobals\u001b[39m()[module_class]\n\u001b[1;32m--> 515\u001b[0m     module \u001b[38;5;241m=\u001b[39m \u001b[43mmodule_class\u001b[49m\u001b[43m(\u001b[49m\u001b[43mfilepath\u001b[49m\u001b[43m,\u001b[49m\u001b[43m \u001b[49m\u001b[43mprefix\u001b[49m\u001b[43m,\u001b[49m\u001b[43m \u001b[49m\u001b[43muser_api\u001b[49m\u001b[43m,\u001b[49m\u001b[43m \u001b[49m\u001b[43minternal_api\u001b[49m\u001b[43m)\u001b[49m\n\u001b[0;32m    516\u001b[0m     \u001b[38;5;28mself\u001b[39m\u001b[38;5;241m.\u001b[39mmodules\u001b[38;5;241m.\u001b[39mappend(module)\n",
      "File \u001b[1;32m~\\anaconda3\\lib\\site-packages\\threadpoolctl.py:606\u001b[0m, in \u001b[0;36m_Module.__init__\u001b[1;34m(self, filepath, prefix, user_api, internal_api)\u001b[0m\n\u001b[0;32m    604\u001b[0m \u001b[38;5;28mself\u001b[39m\u001b[38;5;241m.\u001b[39minternal_api \u001b[38;5;241m=\u001b[39m internal_api\n\u001b[0;32m    605\u001b[0m \u001b[38;5;28mself\u001b[39m\u001b[38;5;241m.\u001b[39m_dynlib \u001b[38;5;241m=\u001b[39m ctypes\u001b[38;5;241m.\u001b[39mCDLL(filepath, mode\u001b[38;5;241m=\u001b[39m_RTLD_NOLOAD)\n\u001b[1;32m--> 606\u001b[0m \u001b[38;5;28mself\u001b[39m\u001b[38;5;241m.\u001b[39mversion \u001b[38;5;241m=\u001b[39m \u001b[38;5;28;43mself\u001b[39;49m\u001b[38;5;241;43m.\u001b[39;49m\u001b[43mget_version\u001b[49m\u001b[43m(\u001b[49m\u001b[43m)\u001b[49m\n\u001b[0;32m    607\u001b[0m \u001b[38;5;28mself\u001b[39m\u001b[38;5;241m.\u001b[39mnum_threads \u001b[38;5;241m=\u001b[39m \u001b[38;5;28mself\u001b[39m\u001b[38;5;241m.\u001b[39mget_num_threads()\n\u001b[0;32m    608\u001b[0m \u001b[38;5;28mself\u001b[39m\u001b[38;5;241m.\u001b[39m_get_extra_info()\n",
      "File \u001b[1;32m~\\anaconda3\\lib\\site-packages\\threadpoolctl.py:646\u001b[0m, in \u001b[0;36m_OpenBLASModule.get_version\u001b[1;34m(self)\u001b[0m\n\u001b[0;32m    643\u001b[0m get_config \u001b[38;5;241m=\u001b[39m \u001b[38;5;28mgetattr\u001b[39m(\u001b[38;5;28mself\u001b[39m\u001b[38;5;241m.\u001b[39m_dynlib, \u001b[38;5;124m\"\u001b[39m\u001b[38;5;124mopenblas_get_config\u001b[39m\u001b[38;5;124m\"\u001b[39m,\n\u001b[0;32m    644\u001b[0m                      \u001b[38;5;28;01mlambda\u001b[39;00m: \u001b[38;5;28;01mNone\u001b[39;00m)\n\u001b[0;32m    645\u001b[0m get_config\u001b[38;5;241m.\u001b[39mrestype \u001b[38;5;241m=\u001b[39m ctypes\u001b[38;5;241m.\u001b[39mc_char_p\n\u001b[1;32m--> 646\u001b[0m config \u001b[38;5;241m=\u001b[39m \u001b[43mget_config\u001b[49m\u001b[43m(\u001b[49m\u001b[43m)\u001b[49m\u001b[38;5;241;43m.\u001b[39;49m\u001b[43msplit\u001b[49m()\n\u001b[0;32m    647\u001b[0m \u001b[38;5;28;01mif\u001b[39;00m config[\u001b[38;5;241m0\u001b[39m] \u001b[38;5;241m==\u001b[39m \u001b[38;5;124mb\u001b[39m\u001b[38;5;124m\"\u001b[39m\u001b[38;5;124mOpenBLAS\u001b[39m\u001b[38;5;124m\"\u001b[39m:\n\u001b[0;32m    648\u001b[0m     \u001b[38;5;28;01mreturn\u001b[39;00m config[\u001b[38;5;241m1\u001b[39m]\u001b[38;5;241m.\u001b[39mdecode(\u001b[38;5;124m\"\u001b[39m\u001b[38;5;124mutf-8\u001b[39m\u001b[38;5;124m\"\u001b[39m)\n",
      "\u001b[1;31mAttributeError\u001b[0m: 'NoneType' object has no attribute 'split'"
     ]
    }
   ],
   "source": [
    "# using Kmeans clustering\n",
    "\n",
    "from sklearn.cluster import KMeans\n",
    "\n",
    "# we will try for many values of k from 2 to 8\n",
    "cluster_interia = []\n",
    "n_clusters = []\n",
    "\n",
    "for k in range(1, 9):\n",
    "    kmeans = KMeans(n_clusters = k)\n",
    "    kmeans.fit(x)\n",
    "    cluster_interia.append(kmeans.inertia_)\n",
    "    n_clusters.append(k)"
   ]
  },
  {
   "cell_type": "code",
   "execution_count": null,
   "id": "8491e548",
   "metadata": {},
   "outputs": [],
   "source": [
    "# Now we plot the inertia for every cluster \n",
    "\n",
    "plt.figure(figsize = (10, 6))\n",
    "sns.barplot(x = n_clusters, y = cluster_interia)\n",
    "plt.xlabel('number of clusters')\n",
    "plt.ylabel('Cluster Inertia')\n",
    "plt.title('Kmeans')"
   ]
  },
  {
   "cell_type": "code",
   "execution_count": null,
   "id": "dacf7837",
   "metadata": {},
   "outputs": [],
   "source": [
    "# from above plot we can make a choice that we can divide our market into 4 segments.\n",
    "\n",
    "# Also two way clustering can be used if the inertia falloff is not that significant.\n",
    "\n",
    "# The way we do two way clustering is described below\n",
    "# we initialize a high k and perform k means than the reperesentative of each cluster is fed to hierarchy clustering \n",
    "# in which we can see the number of segments more clearly. This is done because hierarchical clustering is expensive \n",
    "# for large datasets so we reduce all data points by their reperesentatives."
   ]
  },
  {
   "cell_type": "code",
   "execution_count": null,
   "id": "e84a5ff9",
   "metadata": {},
   "outputs": [],
   "source": [
    "# using 4 segments\n",
    "\n",
    "kmeans = KMeans(n_clusters = 4)\n",
    "kmeans.fit(x)"
   ]
  },
  {
   "cell_type": "code",
   "execution_count": null,
   "id": "1bddb978",
   "metadata": {},
   "outputs": [],
   "source": [
    "# visualizing the clusters\n",
    "\n",
    "pred = kmeans.predict(x)\n",
    "\n",
    "plt.figure(figsize = (10, 8))\n",
    "\n",
    "sns.scatterplot(x = df_pc['PC1'], y = df_pc['PC2'], hue = pred,\n",
    "                palette=['green','orange','dodgerblue','red'])\n",
    "\n",
    "plt.show()"
   ]
  },
  {
   "cell_type": "markdown",
   "id": "13e4b23f",
   "metadata": {},
   "source": [
    "**Using Hierarchical Clustering**"
   ]
  },
  {
   "cell_type": "code",
   "execution_count": null,
   "id": "03c8fc5b",
   "metadata": {},
   "outputs": [],
   "source": [
    "# using Hierarchical Clustering\n",
    "\n",
    "from scipy.cluster.hierarchy import linkage, dendrogram\n",
    "from sklearn.cluster import AgglomerativeClustering\n",
    "\n",
    "merg = linkage(x, method=\"ward\")\n",
    "plt.figure(figsize=(25,10))\n",
    "dendrogram(merg,leaf_rotation = 90)\n",
    "plt.xlabel(\"data points\")\n",
    "plt.ylabel(\"euclidean distance\")\n",
    "plt.show()"
   ]
  },
  {
   "cell_type": "code",
   "execution_count": null,
   "id": "8417fa85",
   "metadata": {},
   "outputs": [],
   "source": [
    "# the above figure sugggests we can have 3 segments (long 3 vertcal lines)\n",
    "\n",
    "agglo_clustering = AgglomerativeClustering(n_clusters = 3, metric= \"euclidean\", linkage = \"ward\")\n",
    "agglo_cluster_pred = agglo_clustering.fit_predict(x)"
   ]
  },
  {
   "cell_type": "code",
   "execution_count": null,
   "id": "65beb823",
   "metadata": {},
   "outputs": [],
   "source": [
    "# visualizing the Agglomerative clustering\n",
    "\n",
    "# visualizing the clusters\n",
    "\n",
    "plt.figure(figsize = (10, 8))\n",
    "\n",
    "sns.scatterplot(x = df_pc['PC1'], y = df_pc['PC2'], hue = agglo_cluster_pred,\n",
    "                palette=['green', 'dodgerblue','red'])\n",
    "\n",
    "plt.show()"
   ]
  },
  {
   "cell_type": "markdown",
   "id": "c38c2f21",
   "metadata": {},
   "source": [
    "### Describing Segements"
   ]
  },
  {
   "cell_type": "code",
   "execution_count": null,
   "id": "8af183d3",
   "metadata": {},
   "outputs": [],
   "source": [
    "df['cluster'] = pred"
   ]
  },
  {
   "cell_type": "code",
   "execution_count": null,
   "id": "cf9a69b8",
   "metadata": {},
   "outputs": [],
   "source": [
    "df.head()"
   ]
  },
  {
   "cell_type": "code",
   "execution_count": null,
   "id": "c068d2a2",
   "metadata": {},
   "outputs": [],
   "source": [
    "df['cluster'].value_counts()"
   ]
  },
  {
   "cell_type": "code",
   "execution_count": null,
   "id": "b9c60f2e",
   "metadata": {},
   "outputs": [],
   "source": [
    "sns.countplot(x = df['cluster'], hue = df['cluster'])\n",
    "plt.show()"
   ]
  },
  {
   "cell_type": "code",
   "execution_count": null,
   "id": "eb01d6c8",
   "metadata": {},
   "outputs": [],
   "source": [
    "from statsmodels.graphics.mosaicplot import mosaic\n",
    "from itertools import product\n",
    "\n",
    "crosstable = pd.crosstab(df['cluster'], df['Gender'])\n",
    "crosstable"
   ]
  },
  {
   "cell_type": "code",
   "execution_count": null,
   "id": "37fbe4c1",
   "metadata": {},
   "outputs": [],
   "source": [
    "plt.figure(figsize = (14, 10))\n",
    "mosaic(crosstable.stack())\n",
    "plt.show()"
   ]
  },
  {
   "cell_type": "code",
   "execution_count": null,
   "id": "a565c553",
   "metadata": {},
   "outputs": [],
   "source": [
    "crosstable = pd.crosstab(df['cluster'], df['Like'])\n",
    "crosstable"
   ]
  },
  {
   "cell_type": "code",
   "execution_count": null,
   "id": "7f831269",
   "metadata": {},
   "outputs": [],
   "source": [
    "plt.figure(figsize = (14, 10))\n",
    "mosaic(crosstable.stack())\n",
    "plt.show()"
   ]
  },
  {
   "cell_type": "code",
   "execution_count": null,
   "id": "94f96098",
   "metadata": {},
   "outputs": [],
   "source": [
    "plt.figure(figsize = (14, 7))\n",
    "sns.countplot(x = df['Gender'], hue = df['cluster'])\n",
    "plt.title('Distribution of Gender in diffrent clusters')\n",
    "plt.show()"
   ]
  },
  {
   "cell_type": "code",
   "execution_count": null,
   "id": "afa79c97",
   "metadata": {},
   "outputs": [],
   "source": [
    "plt.figure(figsize = (14, 7))\n",
    "sns.countplot(x = df['Like'], hue = df['cluster'])\n",
    "plt.title('Distribution of Likeness in diffrent clusters')\n",
    "plt.show()"
   ]
  },
  {
   "cell_type": "code",
   "execution_count": null,
   "id": "e32366e5",
   "metadata": {},
   "outputs": [],
   "source": [
    "plt.figure(figsize = (14, 7))\n",
    "sns.countplot(x = df['VisitFrequency'], hue = df['cluster'])\n",
    "plt.title('Distribution of Likeness in diffrent clusters')\n",
    "plt.show()"
   ]
  },
  {
   "cell_type": "code",
   "execution_count": null,
   "id": "e2529ada",
   "metadata": {},
   "outputs": [],
   "source": [
    "plt.figure(figsize = (10, 8))\n",
    "sns.boxplot(x=\"cluster\", y=\"Age\", data=df)\n",
    "plt.show()"
   ]
  },
  {
   "cell_type": "markdown",
   "id": "d507e809",
   "metadata": {},
   "source": [
    "### Selecting the target"
   ]
  },
  {
   "cell_type": "code",
   "execution_count": null,
   "id": "55b04597",
   "metadata": {},
   "outputs": [],
   "source": [
    "# we need to give numerical encodings to visitFrequency column\n",
    "# we will provide meaningful encoding to the columns (more value means more visit)\n",
    "\n",
    "\n",
    "df['VisitFrequency'].unique()"
   ]
  },
  {
   "cell_type": "code",
   "execution_count": null,
   "id": "6eefd859",
   "metadata": {},
   "outputs": [],
   "source": [
    "df['frequency'] = df['VisitFrequency'].replace({\n",
    "    'Never':0,\n",
    "    'Once a week':4,\n",
    "    'More than once a week':5,\n",
    "    'Once a month' : 3,\n",
    "    'Every three months': 2,\n",
    "     'Once a year': 1\n",
    "})"
   ]
  },
  {
   "cell_type": "code",
   "execution_count": null,
   "id": "81c2636a",
   "metadata": {},
   "outputs": [],
   "source": [
    "df.head()"
   ]
  },
  {
   "cell_type": "code",
   "execution_count": null,
   "id": "76920943",
   "metadata": {},
   "outputs": [],
   "source": [
    "# describing each cluster\n",
    "\n",
    "like_by_cluster = []\n",
    "visit_by_cluster = []\n",
    "female_by_cluster = []\n",
    "\n",
    "for i in range(4):\n",
    "    like_by_cluster.append(df[df['cluster'] == i]['Like'].mean())\n",
    "    visit_by_cluster.append(df[df['cluster'] == i]['frequency'].mean())\n",
    "    female_by_cluster.append(len(df[((df['cluster'] == i) & (df['Gender'] == 'Female'))]))\n",
    "    "
   ]
  },
  {
   "cell_type": "code",
   "execution_count": null,
   "id": "541c6d98",
   "metadata": {},
   "outputs": [],
   "source": [
    "# The segment evaluation plot  is extremely simplified because only\n",
    "# a small number of descriptor variables are available for the fast food data set. In\n",
    "# the plot the frequency of visiting McDonald’s is plotted along the x-axis. The\n",
    "# extent of liking or hating McDonald’s is plotted along the y-axis. The bubble size\n",
    "# represents the percentage of female consumers\n",
    "\n",
    "plt.figure(figsize = (8, 6))\n",
    "sns.scatterplot(x = visit_by_cluster, y = like_by_cluster, hue = [0,1,2,3], s = np.array(female_by_cluster)*3, \n",
    "               palette=['Red', 'Green', 'Blue', 'Brown'])\n",
    "\n",
    "plt.xlabel('Visit')\n",
    "plt.ylabel('Like')\n",
    "plt.title('Segment Evaluation Plot')\n",
    "plt.show()"
   ]
  }
 ],
 "metadata": {
  "kernelspec": {
   "display_name": "Python 3 (ipykernel)",
   "language": "python",
   "name": "python3"
  },
  "language_info": {
   "codemirror_mode": {
    "name": "ipython",
    "version": 3
   },
   "file_extension": ".py",
   "mimetype": "text/x-python",
   "name": "python",
   "nbconvert_exporter": "python",
   "pygments_lexer": "ipython3",
   "version": "3.9.12"
  }
 },
 "nbformat": 4,
 "nbformat_minor": 5
}
